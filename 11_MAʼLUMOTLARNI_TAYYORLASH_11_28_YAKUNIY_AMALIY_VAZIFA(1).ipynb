{
 "cells": [
  {
   "cell_type": "markdown",
   "metadata": {
    "colab_type": "text",
    "id": "view-in-github"
   },
   "source": [
    "<a href=\"https://colab.research.google.com/github/Azamat2023/Data-science-and-AI/blob/master/11_MA%CA%BCLUMOTLARNI_TAYYORLASH_11_28_YAKUNIY_AMALIY_VAZIFA.ipynb\" target=\"_parent\"><img src=\"https://colab.research.google.com/assets/colab-badge.svg\" alt=\"Open In Colab\"/></a>"
   ]
  },
  {
   "cell_type": "markdown",
   "metadata": {
    "id": "fVxJerRe4ATj"
   },
   "source": [
    "![Imgur](https://i.imgur.com/h4PPC71.png)\n",
    "#11-modul. Maʼlumotlarga ishlov berish. Maʼlumotlarni tayyorlash\n",
    "# 11.28. Modul boʻyicha yakuniy amaliy vazifa\n",
    "\n",
    "**Bu vazifalarni bajargach, maʼlumotlarni yuklash, tozalash, oʻzgartirish, matnlarni normalizatsiya qilish, qiymatlarni tekshirish, guruhlash va tahlil qilish kabi maʼlumotlarga ishlov berish (data processing) koʻnikmalarini egallaysiz.**"
   ]
  },
  {
   "cell_type": "markdown",
   "metadata": {
    "id": "HhJ8Wd1y6J-b"
   },
   "source": [
    "#**Umumiy maʼlumotlar bilan ishlash**"
   ]
  },
  {
   "cell_type": "markdown",
   "metadata": {
    "id": "co4J2g_1VM4C"
   },
   "source": [
    "#Dataset haqida qisqacha maʼlumot\n",
    "Restoran savdosi boʻyicha maʼlumotlar toʻplami 17 534 tranzaksiya uchun maʼlumotlarni oʻz ichiga oladi. Maʼlumotlar yetishmayotgan yoki baʼzilari toʻliq kiritilmagan boʻlishi mumkin. Maʼlumotlar toʻplamida asosiy taomlar, shirinliklar, ichimliklar kabi bir nechta toifadagi savdo tafsilotlari mavjud.\n",
    "\n",
    "\n",
    " 0.   **Unnamed 0** – indekslarni;\n",
    " 1.   **Order ID** – buyurtma IDʼsini;\n",
    " 2.   **Customer ID** – mijoz IDʼsini;\n",
    " 3.   **Category** – mahsulotlar kategoriyasini;\n",
    " 4.   **Item** – mahsulot nomini;\n",
    " 5.   **Price** – mahsulotning narxini;\n",
    " 6.   **Quantity** – qancha mahsulot sotilgani miqdorini;\n",
    " 7.   **Order Total** – umumiy narx qancha ekanini;\n",
    " 8.   **Order Date** – buyurtma berilgan sanani (vaqt);\n",
    " 9.   **Payment Method** – toʻlov usuli turini saqlaydi."
   ]
  },
  {
   "cell_type": "markdown",
   "metadata": {
    "id": "AJXwX2p958mp"
   },
   "source": [
    "#1) Quyida berilgan datasetni yuklab olib, ustun nomlarini koʻring va ularni maʼno jihatdan tushunarli shaklga keltiring. `Unnamed: 0` ustunini tashlab yuboring!"
   ]
  },
  {
   "cell_type": "code",
   "execution_count": 199,
   "metadata": {
    "colab": {
     "base_uri": "https://localhost:8080/",
     "height": 206
    },
    "id": "vP3A1De6sdlY",
    "outputId": "e0deacc7-6628-4614-de8d-a60d1add70b5"
   },
   "outputs": [
    {
     "data": {
      "text/html": [
       "<div>\n",
       "<style scoped>\n",
       "    .dataframe tbody tr th:only-of-type {\n",
       "        vertical-align: middle;\n",
       "    }\n",
       "\n",
       "    .dataframe tbody tr th {\n",
       "        vertical-align: top;\n",
       "    }\n",
       "\n",
       "    .dataframe thead th {\n",
       "        text-align: right;\n",
       "    }\n",
       "</style>\n",
       "<table border=\"1\" class=\"dataframe\">\n",
       "  <thead>\n",
       "    <tr style=\"text-align: right;\">\n",
       "      <th></th>\n",
       "      <th>Unnamed: 0</th>\n",
       "      <th>Order ID</th>\n",
       "      <th>Customer ID</th>\n",
       "      <th>Category</th>\n",
       "      <th>Item</th>\n",
       "      <th>Price</th>\n",
       "      <th>Quantity</th>\n",
       "      <th>Order Total</th>\n",
       "      <th>Order Date</th>\n",
       "      <th>Payment Method</th>\n",
       "    </tr>\n",
       "  </thead>\n",
       "  <tbody>\n",
       "    <tr>\n",
       "      <th>0</th>\n",
       "      <td>0</td>\n",
       "      <td>ORD_705844</td>\n",
       "      <td>CUST_092</td>\n",
       "      <td>NaN</td>\n",
       "      <td>side salad#?</td>\n",
       "      <td>3.0</td>\n",
       "      <td>1.0</td>\n",
       "      <td>3.0</td>\n",
       "      <td>2023-12-21</td>\n",
       "      <td>Credit Card</td>\n",
       "    </tr>\n",
       "    <tr>\n",
       "      <th>1</th>\n",
       "      <td>1</td>\n",
       "      <td>ORD_338528</td>\n",
       "      <td>CUST_021</td>\n",
       "      <td>Side Dishes</td>\n",
       "      <td>Mashed Potatoes</td>\n",
       "      <td>4.0</td>\n",
       "      <td>3.0</td>\n",
       "      <td>12.0</td>\n",
       "      <td>2023-05-19</td>\n",
       "      <td>Digital Wallet</td>\n",
       "    </tr>\n",
       "    <tr>\n",
       "      <th>2</th>\n",
       "      <td>2</td>\n",
       "      <td>ORD_443849</td>\n",
       "      <td>CUST_029</td>\n",
       "      <td>Main Dishes</td>\n",
       "      <td>Grilled Chicken</td>\n",
       "      <td>15.0</td>\n",
       "      <td>4.0</td>\n",
       "      <td>60.0</td>\n",
       "      <td>2023-09-27</td>\n",
       "      <td>Credit Card</td>\n",
       "    </tr>\n",
       "    <tr>\n",
       "      <th>3</th>\n",
       "      <td>3</td>\n",
       "      <td>ORD_630508</td>\n",
       "      <td>CUST_075</td>\n",
       "      <td>Drinks</td>\n",
       "      <td>NaN</td>\n",
       "      <td>-1.0</td>\n",
       "      <td>2.0</td>\n",
       "      <td>5.0</td>\n",
       "      <td>2022-08-09</td>\n",
       "      <td>Credit Card</td>\n",
       "    </tr>\n",
       "    <tr>\n",
       "      <th>4</th>\n",
       "      <td>4</td>\n",
       "      <td>ORD_648269</td>\n",
       "      <td>CUST_031</td>\n",
       "      <td>Main Dishes</td>\n",
       "      <td>Pasta Alfredo</td>\n",
       "      <td>12.0</td>\n",
       "      <td>4.0</td>\n",
       "      <td>48.0</td>\n",
       "      <td>2022-05-15</td>\n",
       "      <td>Cash</td>\n",
       "    </tr>\n",
       "  </tbody>\n",
       "</table>\n",
       "</div>"
      ],
      "text/plain": [
       "   Unnamed: 0    Order ID Customer ID     Category             Item  Price  \\\n",
       "0           0  ORD_705844    CUST_092          NaN     side salad#?    3.0   \n",
       "1           1  ORD_338528    CUST_021  Side Dishes  Mashed Potatoes    4.0   \n",
       "2           2  ORD_443849    CUST_029  Main Dishes  Grilled Chicken   15.0   \n",
       "3           3  ORD_630508    CUST_075       Drinks              NaN   -1.0   \n",
       "4           4  ORD_648269    CUST_031  Main Dishes    Pasta Alfredo   12.0   \n",
       "\n",
       "   Quantity  Order Total  Order Date  Payment Method  \n",
       "0       1.0          3.0  2023-12-21     Credit Card  \n",
       "1       3.0         12.0  2023-05-19  Digital Wallet  \n",
       "2       4.0         60.0  2023-09-27     Credit Card  \n",
       "3       2.0          5.0  2022-08-09     Credit Card  \n",
       "4       4.0         48.0  2022-05-15            Cash  "
      ]
     },
     "execution_count": 199,
     "metadata": {},
     "output_type": "execute_result"
    }
   ],
   "source": [
    "import pandas as pd\n",
    "import numpy as np\n",
    "\n",
    "url = \"restaurant_sales.csv\"\n",
    "df = pd.read_csv(url)\n",
    "df.head()"
   ]
  },
  {
   "cell_type": "code",
   "execution_count": 200,
   "metadata": {
    "id": "Lt37epg8YTR1"
   },
   "outputs": [],
   "source": [
    "#javobni shu yerda yozing\n",
    "df.drop(\"Unnamed: 0\", axis=1, inplace=True)"
   ]
  },
  {
   "cell_type": "markdown",
   "metadata": {
    "id": "KwaHmTOl9CyF"
   },
   "source": [
    "#2) Maʼlumotlarning umumiy holatini (info(), describe()) tekshiring."
   ]
  },
  {
   "cell_type": "code",
   "execution_count": 201,
   "metadata": {
    "id": "bz0TzYna8Eqo"
   },
   "outputs": [
    {
     "name": "stdout",
     "output_type": "stream",
     "text": [
      "<class 'pandas.core.frame.DataFrame'>\n",
      "RangeIndex: 17534 entries, 0 to 17533\n",
      "Data columns (total 9 columns):\n",
      " #   Column          Non-Null Count  Dtype  \n",
      "---  ------          --------------  -----  \n",
      " 0   Order ID        17534 non-null  object \n",
      " 1   Customer ID     17534 non-null  object \n",
      " 2   Category        17498 non-null  object \n",
      " 3   Item            15776 non-null  object \n",
      " 4   Price           17534 non-null  float64\n",
      " 5   Quantity        17104 non-null  float64\n",
      " 6   Order Total     17104 non-null  float64\n",
      " 7   Order Date      17534 non-null  object \n",
      " 8   Payment Method  16452 non-null  object \n",
      "dtypes: float64(3), object(6)\n",
      "memory usage: 1.2+ MB\n"
     ]
    }
   ],
   "source": [
    "#javobni shu yerda yozing\n",
    "df.info()"
   ]
  },
  {
   "cell_type": "code",
   "execution_count": 202,
   "metadata": {},
   "outputs": [
    {
     "data": {
      "text/html": [
       "<div>\n",
       "<style scoped>\n",
       "    .dataframe tbody tr th:only-of-type {\n",
       "        vertical-align: middle;\n",
       "    }\n",
       "\n",
       "    .dataframe tbody tr th {\n",
       "        vertical-align: top;\n",
       "    }\n",
       "\n",
       "    .dataframe thead th {\n",
       "        text-align: right;\n",
       "    }\n",
       "</style>\n",
       "<table border=\"1\" class=\"dataframe\">\n",
       "  <thead>\n",
       "    <tr style=\"text-align: right;\">\n",
       "      <th></th>\n",
       "      <th>Price</th>\n",
       "      <th>Quantity</th>\n",
       "      <th>Order Total</th>\n",
       "    </tr>\n",
       "  </thead>\n",
       "  <tbody>\n",
       "    <tr>\n",
       "      <th>count</th>\n",
       "      <td>17534.000000</td>\n",
       "      <td>17104.000000</td>\n",
       "      <td>17104.000000</td>\n",
       "    </tr>\n",
       "    <tr>\n",
       "      <th>mean</th>\n",
       "      <td>6.207312</td>\n",
       "      <td>3.014149</td>\n",
       "      <td>19.914494</td>\n",
       "    </tr>\n",
       "    <tr>\n",
       "      <th>std</th>\n",
       "      <td>4.993782</td>\n",
       "      <td>1.414598</td>\n",
       "      <td>18.732549</td>\n",
       "    </tr>\n",
       "    <tr>\n",
       "      <th>min</th>\n",
       "      <td>-1.000000</td>\n",
       "      <td>1.000000</td>\n",
       "      <td>1.000000</td>\n",
       "    </tr>\n",
       "    <tr>\n",
       "      <th>25%</th>\n",
       "      <td>3.000000</td>\n",
       "      <td>2.000000</td>\n",
       "      <td>7.500000</td>\n",
       "    </tr>\n",
       "    <tr>\n",
       "      <th>50%</th>\n",
       "      <td>5.000000</td>\n",
       "      <td>3.000000</td>\n",
       "      <td>15.000000</td>\n",
       "    </tr>\n",
       "    <tr>\n",
       "      <th>75%</th>\n",
       "      <td>7.000000</td>\n",
       "      <td>4.000000</td>\n",
       "      <td>25.000000</td>\n",
       "    </tr>\n",
       "    <tr>\n",
       "      <th>max</th>\n",
       "      <td>20.000000</td>\n",
       "      <td>5.000000</td>\n",
       "      <td>100.000000</td>\n",
       "    </tr>\n",
       "  </tbody>\n",
       "</table>\n",
       "</div>"
      ],
      "text/plain": [
       "              Price      Quantity   Order Total\n",
       "count  17534.000000  17104.000000  17104.000000\n",
       "mean       6.207312      3.014149     19.914494\n",
       "std        4.993782      1.414598     18.732549\n",
       "min       -1.000000      1.000000      1.000000\n",
       "25%        3.000000      2.000000      7.500000\n",
       "50%        5.000000      3.000000     15.000000\n",
       "75%        7.000000      4.000000     25.000000\n",
       "max       20.000000      5.000000    100.000000"
      ]
     },
     "execution_count": 202,
     "metadata": {},
     "output_type": "execute_result"
    }
   ],
   "source": [
    "df.describe()"
   ]
  },
  {
   "cell_type": "markdown",
   "metadata": {
    "id": "xGW7RLaU9Vju"
   },
   "source": [
    "#3) Har bir ustundagi boʻsh qiymatlarni aniqlang va ularni toʻldirish strategiyasini ishlab chiqing."
   ]
  },
  {
   "cell_type": "code",
   "execution_count": 203,
   "metadata": {
    "id": "aLRD_Ehz9SWE"
   },
   "outputs": [
    {
     "data": {
      "text/plain": [
       "Order ID             0\n",
       "Customer ID          0\n",
       "Category            36\n",
       "Item              1758\n",
       "Price                0\n",
       "Quantity           430\n",
       "Order Total        430\n",
       "Order Date           0\n",
       "Payment Method    1082\n",
       "dtype: int64"
      ]
     },
     "execution_count": 203,
     "metadata": {},
     "output_type": "execute_result"
    }
   ],
   "source": [
    "#javobni shu yerda yozing\n",
    "df.isna().sum()"
   ]
  },
  {
   "cell_type": "code",
   "execution_count": 204,
   "metadata": {},
   "outputs": [
    {
     "data": {
      "text/html": [
       "<div>\n",
       "<style scoped>\n",
       "    .dataframe tbody tr th:only-of-type {\n",
       "        vertical-align: middle;\n",
       "    }\n",
       "\n",
       "    .dataframe tbody tr th {\n",
       "        vertical-align: top;\n",
       "    }\n",
       "\n",
       "    .dataframe thead th {\n",
       "        text-align: right;\n",
       "    }\n",
       "</style>\n",
       "<table border=\"1\" class=\"dataframe\">\n",
       "  <thead>\n",
       "    <tr style=\"text-align: right;\">\n",
       "      <th></th>\n",
       "      <th>Order ID</th>\n",
       "      <th>Customer ID</th>\n",
       "      <th>Category</th>\n",
       "      <th>Item</th>\n",
       "      <th>Price</th>\n",
       "      <th>Quantity</th>\n",
       "      <th>Order Total</th>\n",
       "      <th>Order Date</th>\n",
       "      <th>Payment Method</th>\n",
       "    </tr>\n",
       "  </thead>\n",
       "  <tbody>\n",
       "    <tr>\n",
       "      <th>0</th>\n",
       "      <td>ORD_705844</td>\n",
       "      <td>CUST_092</td>\n",
       "      <td>NaN</td>\n",
       "      <td>side salad#?</td>\n",
       "      <td>3.0</td>\n",
       "      <td>1.0</td>\n",
       "      <td>3.0</td>\n",
       "      <td>2023-12-21</td>\n",
       "      <td>Credit Card</td>\n",
       "    </tr>\n",
       "    <tr>\n",
       "      <th>1</th>\n",
       "      <td>ORD_338528</td>\n",
       "      <td>CUST_021</td>\n",
       "      <td>Side Dishes</td>\n",
       "      <td>Mashed Potatoes</td>\n",
       "      <td>4.0</td>\n",
       "      <td>3.0</td>\n",
       "      <td>12.0</td>\n",
       "      <td>2023-05-19</td>\n",
       "      <td>Digital Wallet</td>\n",
       "    </tr>\n",
       "    <tr>\n",
       "      <th>2</th>\n",
       "      <td>ORD_443849</td>\n",
       "      <td>CUST_029</td>\n",
       "      <td>Main Dishes</td>\n",
       "      <td>Grilled Chicken</td>\n",
       "      <td>15.0</td>\n",
       "      <td>4.0</td>\n",
       "      <td>60.0</td>\n",
       "      <td>2023-09-27</td>\n",
       "      <td>Credit Card</td>\n",
       "    </tr>\n",
       "    <tr>\n",
       "      <th>3</th>\n",
       "      <td>ORD_630508</td>\n",
       "      <td>CUST_075</td>\n",
       "      <td>Drinks</td>\n",
       "      <td>NaN</td>\n",
       "      <td>-1.0</td>\n",
       "      <td>2.0</td>\n",
       "      <td>5.0</td>\n",
       "      <td>2022-08-09</td>\n",
       "      <td>Credit Card</td>\n",
       "    </tr>\n",
       "    <tr>\n",
       "      <th>4</th>\n",
       "      <td>ORD_648269</td>\n",
       "      <td>CUST_031</td>\n",
       "      <td>Main Dishes</td>\n",
       "      <td>Pasta Alfredo</td>\n",
       "      <td>12.0</td>\n",
       "      <td>4.0</td>\n",
       "      <td>48.0</td>\n",
       "      <td>2022-05-15</td>\n",
       "      <td>Cash</td>\n",
       "    </tr>\n",
       "    <tr>\n",
       "      <th>5</th>\n",
       "      <td>ORD_381680</td>\n",
       "      <td>CUST_031</td>\n",
       "      <td>Main Dishes</td>\n",
       "      <td>Salmon</td>\n",
       "      <td>18.0</td>\n",
       "      <td>5.0</td>\n",
       "      <td>90.0</td>\n",
       "      <td>2022-07-20</td>\n",
       "      <td>Digital Wallet</td>\n",
       "    </tr>\n",
       "    <tr>\n",
       "      <th>6</th>\n",
       "      <td>ORD_270994</td>\n",
       "      <td>CUST_071</td>\n",
       "      <td>Side Dishes</td>\n",
       "      <td>Garlic Bread</td>\n",
       "      <td>4.0</td>\n",
       "      <td>5.0</td>\n",
       "      <td>20.0</td>\n",
       "      <td>2022-08-19</td>\n",
       "      <td>Credit Card</td>\n",
       "    </tr>\n",
       "    <tr>\n",
       "      <th>7</th>\n",
       "      <td>ORD_146656</td>\n",
       "      <td>CUST_077</td>\n",
       "      <td>Main Dishes</td>\n",
       "      <td>NaN</td>\n",
       "      <td>15.0</td>\n",
       "      <td>3.0</td>\n",
       "      <td>45.0</td>\n",
       "      <td>2023-02-15</td>\n",
       "      <td>Cash</td>\n",
       "    </tr>\n",
       "    <tr>\n",
       "      <th>8</th>\n",
       "      <td>ORD_428611</td>\n",
       "      <td>CUST_083</td>\n",
       "      <td>Desserts</td>\n",
       "      <td>NaN</td>\n",
       "      <td>6.0</td>\n",
       "      <td>2.0</td>\n",
       "      <td>12.0</td>\n",
       "      <td>2023-12-16</td>\n",
       "      <td>Cash</td>\n",
       "    </tr>\n",
       "    <tr>\n",
       "      <th>9</th>\n",
       "      <td>ORD_743636</td>\n",
       "      <td>CUST_085</td>\n",
       "      <td>Main Dishes</td>\n",
       "      <td>Vegetarian Platter</td>\n",
       "      <td>14.0</td>\n",
       "      <td>5.0</td>\n",
       "      <td>70.0</td>\n",
       "      <td>2022-08-07</td>\n",
       "      <td>NaN</td>\n",
       "    </tr>\n",
       "    <tr>\n",
       "      <th>10</th>\n",
       "      <td>ORD_117003</td>\n",
       "      <td>CUST_021</td>\n",
       "      <td>Desserts</td>\n",
       "      <td>Brownie</td>\n",
       "      <td>6.0</td>\n",
       "      <td>2.0</td>\n",
       "      <td>12.0</td>\n",
       "      <td>2023-12-09</td>\n",
       "      <td>Credit Card</td>\n",
       "    </tr>\n",
       "    <tr>\n",
       "      <th>11</th>\n",
       "      <td>ORD_726419</td>\n",
       "      <td>CUST_025</td>\n",
       "      <td>Main Dishes</td>\n",
       "      <td>Salmon</td>\n",
       "      <td>18.0</td>\n",
       "      <td>5.0</td>\n",
       "      <td>90.0</td>\n",
       "      <td>2023-10-30</td>\n",
       "      <td>Cash</td>\n",
       "    </tr>\n",
       "    <tr>\n",
       "      <th>12</th>\n",
       "      <td>ORD_754176</td>\n",
       "      <td>CUST_047</td>\n",
       "      <td>Main Dishes</td>\n",
       "      <td>Salmon</td>\n",
       "      <td>18.0</td>\n",
       "      <td>1.0</td>\n",
       "      <td>18.0</td>\n",
       "      <td>2023-04-11</td>\n",
       "      <td>Cash</td>\n",
       "    </tr>\n",
       "    <tr>\n",
       "      <th>13</th>\n",
       "      <td>ORD_330351</td>\n",
       "      <td>CUST_057</td>\n",
       "      <td>Starters</td>\n",
       "      <td>Sweet Potato Fries</td>\n",
       "      <td>5.0</td>\n",
       "      <td>4.0</td>\n",
       "      <td>20.0</td>\n",
       "      <td>2023-08-18</td>\n",
       "      <td>Credit Card</td>\n",
       "    </tr>\n",
       "    <tr>\n",
       "      <th>14</th>\n",
       "      <td>ORD_458560</td>\n",
       "      <td>CUST_017</td>\n",
       "      <td>Side Dishes</td>\n",
       "      <td>Mashed Potatoes</td>\n",
       "      <td>4.0</td>\n",
       "      <td>3.0</td>\n",
       "      <td>12.0</td>\n",
       "      <td>2022-06-08</td>\n",
       "      <td>Cash</td>\n",
       "    </tr>\n",
       "    <tr>\n",
       "      <th>15</th>\n",
       "      <td>ORD_639569</td>\n",
       "      <td>CUST_024</td>\n",
       "      <td>Drinks</td>\n",
       "      <td>Lemonade</td>\n",
       "      <td>3.0</td>\n",
       "      <td>2.0</td>\n",
       "      <td>6.0</td>\n",
       "      <td>2022-08-28</td>\n",
       "      <td>Cash</td>\n",
       "    </tr>\n",
       "    <tr>\n",
       "      <th>16</th>\n",
       "      <td>ORD_736695</td>\n",
       "      <td>CUST_067</td>\n",
       "      <td>Main Dishes</td>\n",
       "      <td>Grilled Chicken</td>\n",
       "      <td>15.0</td>\n",
       "      <td>3.0</td>\n",
       "      <td>45.0</td>\n",
       "      <td>2022-05-01</td>\n",
       "      <td>Digital Wallet</td>\n",
       "    </tr>\n",
       "    <tr>\n",
       "      <th>17</th>\n",
       "      <td>ORD_283207</td>\n",
       "      <td>CUST_090</td>\n",
       "      <td>Side Dishes</td>\n",
       "      <td>Side Salad</td>\n",
       "      <td>3.0</td>\n",
       "      <td>2.0</td>\n",
       "      <td>6.0</td>\n",
       "      <td>2023-09-01</td>\n",
       "      <td>Digital Wallet</td>\n",
       "    </tr>\n",
       "    <tr>\n",
       "      <th>18</th>\n",
       "      <td>ORD_337802</td>\n",
       "      <td>CUST_034</td>\n",
       "      <td>Desserts</td>\n",
       "      <td>NaN</td>\n",
       "      <td>4.0</td>\n",
       "      <td>5.0</td>\n",
       "      <td>20.0</td>\n",
       "      <td>2022-11-13</td>\n",
       "      <td>Credit Card</td>\n",
       "    </tr>\n",
       "    <tr>\n",
       "      <th>19</th>\n",
       "      <td>ORD_744179</td>\n",
       "      <td>CUST_009</td>\n",
       "      <td>Desserts</td>\n",
       "      <td>Brownie</td>\n",
       "      <td>6.0</td>\n",
       "      <td>3.0</td>\n",
       "      <td>18.0</td>\n",
       "      <td>2023-06-08</td>\n",
       "      <td>Credit Card</td>\n",
       "    </tr>\n",
       "    <tr>\n",
       "      <th>20</th>\n",
       "      <td>ORD_845047</td>\n",
       "      <td>CUST_052</td>\n",
       "      <td>Main Dishes</td>\n",
       "      <td>Vegetarian Platter</td>\n",
       "      <td>14.0</td>\n",
       "      <td>4.0</td>\n",
       "      <td>56.0</td>\n",
       "      <td>2023-02-21</td>\n",
       "      <td>Digital Wallet</td>\n",
       "    </tr>\n",
       "    <tr>\n",
       "      <th>21</th>\n",
       "      <td>ORD_862247</td>\n",
       "      <td>CUST_071</td>\n",
       "      <td>Side Dishes</td>\n",
       "      <td>Side Salad</td>\n",
       "      <td>3.0</td>\n",
       "      <td>4.0</td>\n",
       "      <td>12.0</td>\n",
       "      <td>2023-02-01</td>\n",
       "      <td>Credit Card</td>\n",
       "    </tr>\n",
       "    <tr>\n",
       "      <th>22</th>\n",
       "      <td>ORD_356735</td>\n",
       "      <td>CUST_055</td>\n",
       "      <td>Main Dishes</td>\n",
       "      <td>Salmon</td>\n",
       "      <td>18.0</td>\n",
       "      <td>4.0</td>\n",
       "      <td>72.0</td>\n",
       "      <td>2023-05-09</td>\n",
       "      <td>Credit Card</td>\n",
       "    </tr>\n",
       "    <tr>\n",
       "      <th>23</th>\n",
       "      <td>ORD_333540</td>\n",
       "      <td>CUST_055</td>\n",
       "      <td>Drinks</td>\n",
       "      <td>Orange Juice</td>\n",
       "      <td>3.0</td>\n",
       "      <td>4.0</td>\n",
       "      <td>12.0</td>\n",
       "      <td>2023-09-14</td>\n",
       "      <td>Digital Wallet</td>\n",
       "    </tr>\n",
       "    <tr>\n",
       "      <th>24</th>\n",
       "      <td>ORD_415215</td>\n",
       "      <td>CUST_094</td>\n",
       "      <td>Desserts</td>\n",
       "      <td>Chocolate Cake</td>\n",
       "      <td>6.0</td>\n",
       "      <td>5.0</td>\n",
       "      <td>30.0</td>\n",
       "      <td>2023-03-18</td>\n",
       "      <td>Cash</td>\n",
       "    </tr>\n",
       "    <tr>\n",
       "      <th>25</th>\n",
       "      <td>ORD_375110</td>\n",
       "      <td>CUST_041</td>\n",
       "      <td>Drinks</td>\n",
       "      <td>COCA COLA</td>\n",
       "      <td>2.5</td>\n",
       "      <td>1.0</td>\n",
       "      <td>2.5</td>\n",
       "      <td>2023-05-18</td>\n",
       "      <td>Digital Wallet</td>\n",
       "    </tr>\n",
       "    <tr>\n",
       "      <th>26</th>\n",
       "      <td>ORD_117414</td>\n",
       "      <td>CUST_055</td>\n",
       "      <td>Side Dishes</td>\n",
       "      <td>Grilled Vegetables</td>\n",
       "      <td>5.0</td>\n",
       "      <td>4.0</td>\n",
       "      <td>20.0</td>\n",
       "      <td>2023-09-05</td>\n",
       "      <td>Credit Card</td>\n",
       "    </tr>\n",
       "    <tr>\n",
       "      <th>27</th>\n",
       "      <td>ORD_918434</td>\n",
       "      <td>CUST_096</td>\n",
       "      <td>Main Dishes</td>\n",
       "      <td>Vegetarian Platter</td>\n",
       "      <td>14.0</td>\n",
       "      <td>3.0</td>\n",
       "      <td>42.0</td>\n",
       "      <td>2022-02-02</td>\n",
       "      <td>Digital Wallet</td>\n",
       "    </tr>\n",
       "    <tr>\n",
       "      <th>28</th>\n",
       "      <td>ORD_220701</td>\n",
       "      <td>CUST_040</td>\n",
       "      <td>Drinks</td>\n",
       "      <td>Coca Cola</td>\n",
       "      <td>2.5</td>\n",
       "      <td>4.0</td>\n",
       "      <td>10.0</td>\n",
       "      <td>2023-07-30</td>\n",
       "      <td>Digital Wallet</td>\n",
       "    </tr>\n",
       "    <tr>\n",
       "      <th>29</th>\n",
       "      <td>ORD_647762</td>\n",
       "      <td>CUST_021</td>\n",
       "      <td>Main Dishes</td>\n",
       "      <td>Pasta Alfredo</td>\n",
       "      <td>12.0</td>\n",
       "      <td>1.0</td>\n",
       "      <td>12.0</td>\n",
       "      <td>2023-01-31</td>\n",
       "      <td>Credit Card</td>\n",
       "    </tr>\n",
       "  </tbody>\n",
       "</table>\n",
       "</div>"
      ],
      "text/plain": [
       "      Order ID Customer ID     Category                Item  Price  Quantity  \\\n",
       "0   ORD_705844    CUST_092          NaN        side salad#?    3.0       1.0   \n",
       "1   ORD_338528    CUST_021  Side Dishes     Mashed Potatoes    4.0       3.0   \n",
       "2   ORD_443849    CUST_029  Main Dishes     Grilled Chicken   15.0       4.0   \n",
       "3   ORD_630508    CUST_075       Drinks                 NaN   -1.0       2.0   \n",
       "4   ORD_648269    CUST_031  Main Dishes       Pasta Alfredo   12.0       4.0   \n",
       "5   ORD_381680    CUST_031  Main Dishes              Salmon   18.0       5.0   \n",
       "6   ORD_270994    CUST_071  Side Dishes        Garlic Bread    4.0       5.0   \n",
       "7   ORD_146656    CUST_077  Main Dishes                 NaN   15.0       3.0   \n",
       "8   ORD_428611    CUST_083     Desserts                 NaN    6.0       2.0   \n",
       "9   ORD_743636    CUST_085  Main Dishes  Vegetarian Platter   14.0       5.0   \n",
       "10  ORD_117003    CUST_021     Desserts             Brownie    6.0       2.0   \n",
       "11  ORD_726419    CUST_025  Main Dishes              Salmon   18.0       5.0   \n",
       "12  ORD_754176    CUST_047  Main Dishes              Salmon   18.0       1.0   \n",
       "13  ORD_330351    CUST_057     Starters  Sweet Potato Fries    5.0       4.0   \n",
       "14  ORD_458560    CUST_017  Side Dishes     Mashed Potatoes    4.0       3.0   \n",
       "15  ORD_639569    CUST_024       Drinks            Lemonade    3.0       2.0   \n",
       "16  ORD_736695    CUST_067  Main Dishes     Grilled Chicken   15.0       3.0   \n",
       "17  ORD_283207    CUST_090  Side Dishes          Side Salad    3.0       2.0   \n",
       "18  ORD_337802    CUST_034     Desserts                 NaN    4.0       5.0   \n",
       "19  ORD_744179    CUST_009     Desserts             Brownie    6.0       3.0   \n",
       "20  ORD_845047    CUST_052  Main Dishes  Vegetarian Platter   14.0       4.0   \n",
       "21  ORD_862247    CUST_071  Side Dishes          Side Salad    3.0       4.0   \n",
       "22  ORD_356735    CUST_055  Main Dishes              Salmon   18.0       4.0   \n",
       "23  ORD_333540    CUST_055       Drinks        Orange Juice    3.0       4.0   \n",
       "24  ORD_415215    CUST_094     Desserts      Chocolate Cake    6.0       5.0   \n",
       "25  ORD_375110    CUST_041       Drinks           COCA COLA    2.5       1.0   \n",
       "26  ORD_117414    CUST_055  Side Dishes  Grilled Vegetables    5.0       4.0   \n",
       "27  ORD_918434    CUST_096  Main Dishes  Vegetarian Platter   14.0       3.0   \n",
       "28  ORD_220701    CUST_040       Drinks           Coca Cola    2.5       4.0   \n",
       "29  ORD_647762    CUST_021  Main Dishes       Pasta Alfredo   12.0       1.0   \n",
       "\n",
       "    Order Total  Order Date  Payment Method  \n",
       "0           3.0  2023-12-21     Credit Card  \n",
       "1          12.0  2023-05-19  Digital Wallet  \n",
       "2          60.0  2023-09-27     Credit Card  \n",
       "3           5.0  2022-08-09     Credit Card  \n",
       "4          48.0  2022-05-15            Cash  \n",
       "5          90.0  2022-07-20  Digital Wallet  \n",
       "6          20.0  2022-08-19     Credit Card  \n",
       "7          45.0  2023-02-15            Cash  \n",
       "8          12.0  2023-12-16            Cash  \n",
       "9          70.0  2022-08-07             NaN  \n",
       "10         12.0  2023-12-09     Credit Card  \n",
       "11         90.0  2023-10-30            Cash  \n",
       "12         18.0  2023-04-11            Cash  \n",
       "13         20.0  2023-08-18     Credit Card  \n",
       "14         12.0  2022-06-08            Cash  \n",
       "15          6.0  2022-08-28            Cash  \n",
       "16         45.0  2022-05-01  Digital Wallet  \n",
       "17          6.0  2023-09-01  Digital Wallet  \n",
       "18         20.0  2022-11-13     Credit Card  \n",
       "19         18.0  2023-06-08     Credit Card  \n",
       "20         56.0  2023-02-21  Digital Wallet  \n",
       "21         12.0  2023-02-01     Credit Card  \n",
       "22         72.0  2023-05-09     Credit Card  \n",
       "23         12.0  2023-09-14  Digital Wallet  \n",
       "24         30.0  2023-03-18            Cash  \n",
       "25          2.5  2023-05-18  Digital Wallet  \n",
       "26         20.0  2023-09-05     Credit Card  \n",
       "27         42.0  2022-02-02  Digital Wallet  \n",
       "28         10.0  2023-07-30  Digital Wallet  \n",
       "29         12.0  2023-01-31     Credit Card  "
      ]
     },
     "execution_count": 204,
     "metadata": {},
     "output_type": "execute_result"
    }
   ],
   "source": [
    "df.head(30)"
   ]
  },
  {
   "cell_type": "code",
   "execution_count": 205,
   "metadata": {},
   "outputs": [],
   "source": [
    "df['Category']=df[['Category']].fillna(method='bfill')"
   ]
  },
  {
   "cell_type": "code",
   "execution_count": 206,
   "metadata": {},
   "outputs": [],
   "source": [
    "df.dropna(subset=['Item'], inplace=True)"
   ]
  },
  {
   "cell_type": "code",
   "execution_count": 207,
   "metadata": {},
   "outputs": [
    {
     "data": {
      "text/plain": [
       "0"
      ]
     },
     "execution_count": 207,
     "metadata": {},
     "output_type": "execute_result"
    }
   ],
   "source": [
    "df.fillna({'Quantity':np.mean(df['Quantity']), 'Order Total':np.mean(df['Order Total'])}, inplace=True)\n",
    "df['Order Total'].isna().sum()"
   ]
  },
  {
   "cell_type": "code",
   "execution_count": 208,
   "metadata": {},
   "outputs": [],
   "source": [
    "df['Payment Method'] = df['Payment Method'].fillna(method='bfill')"
   ]
  },
  {
   "cell_type": "markdown",
   "metadata": {
    "id": "DuXQUURbAqjz"
   },
   "source": [
    "#4) Har bir ustundagi takroriy qiymatlarni toping va ularga qanday oʻzgartirish kiritish kerakligini hal qiling."
   ]
  },
  {
   "cell_type": "code",
   "execution_count": 209,
   "metadata": {
    "id": "M5Gw2WD49iQQ"
   },
   "outputs": [
    {
     "data": {
      "text/plain": [
       "0"
      ]
     },
     "execution_count": 209,
     "metadata": {},
     "output_type": "execute_result"
    }
   ],
   "source": [
    "#javobni shu yerda yozing\n",
    "df.duplicated().sum()"
   ]
  },
  {
   "cell_type": "markdown",
   "metadata": {
    "id": "fbRCQr33BQO7"
   },
   "source": [
    "#5) Maʼlumotlar toʻplamidagi noto‘g‘ri maʼlumotlar (masalan, son turishi kerak bo‘lgan ustunda matn bo‘lsa) mavjudligini tekshiring va to‘g‘rilang."
   ]
  },
  {
   "cell_type": "code",
   "execution_count": 210,
   "metadata": {
    "id": "qgZBkN8SBXuJ"
   },
   "outputs": [],
   "source": [
    "#javobni shu yerda yozing\n",
    "df['Item'] = df['Item'].str.replace(r'[?#]', '', regex=True)"
   ]
  },
  {
   "cell_type": "markdown",
   "metadata": {
    "id": "6MIfB4zZBck6"
   },
   "source": [
    "#6) Maʼlumotlar toʻplamidagi **katta/kichik harf** muammolari boʻlgan joylarni toping va bir xil formatga keltiring."
   ]
  },
  {
   "cell_type": "code",
   "execution_count": 211,
   "metadata": {
    "id": "I1rU6jDGBrvB"
   },
   "outputs": [],
   "source": [
    "#javobni shu yerda yozing\n",
    "df['Item'] = df['Item'].str.title()"
   ]
  },
  {
   "cell_type": "markdown",
   "metadata": {
    "id": "iYViqvgcBtIr"
   },
   "source": [
    "#7) Maʼlumotlar turini oʻzgartirish.\n",
    " * Ustunlarning maʼlumot turlarini tekshiring. Notoʻgʻri turlarga ega boʻlgan ustunlarni toʻgʻri formatga oʻtkazing.\n",
    " * `order_date` yoki unga oʻxshash ustunni datetime formatiga oʻtkazing."
   ]
  },
  {
   "cell_type": "code",
   "execution_count": 212,
   "metadata": {
    "id": "B0jtd7GwCg80"
   },
   "outputs": [
    {
     "data": {
      "text/plain": [
       "0       2023-12-21\n",
       "1       2023-05-19\n",
       "2       2023-09-27\n",
       "4       2022-05-15\n",
       "5       2022-07-20\n",
       "           ...    \n",
       "17527   2022-04-06\n",
       "17528   2022-04-22\n",
       "17530   2023-12-18\n",
       "17531   2022-05-20\n",
       "17532   2022-01-27\n",
       "Name: Order Date, Length: 15776, dtype: datetime64[ns]"
      ]
     },
     "execution_count": 212,
     "metadata": {},
     "output_type": "execute_result"
    }
   ],
   "source": [
    "#javobni shu yerda yozing\n",
    "pd.to_datetime(df['Order Date'], format=\"%Y/%m/%d\")"
   ]
  },
  {
   "cell_type": "markdown",
   "metadata": {
    "id": "5KxCddT2CjOD"
   },
   "source": [
    "#8) Mahsulot nomlarida noto‘g‘ri yoki nomaʼlum belgilar (?, NaN, #) mavjudligini tekshiring va ularni tuzating."
   ]
  },
  {
   "cell_type": "code",
   "execution_count": 213,
   "metadata": {
    "id": "CE_0p3sfCwRY"
   },
   "outputs": [
    {
     "data": {
      "text/html": [
       "<div>\n",
       "<style scoped>\n",
       "    .dataframe tbody tr th:only-of-type {\n",
       "        vertical-align: middle;\n",
       "    }\n",
       "\n",
       "    .dataframe tbody tr th {\n",
       "        vertical-align: top;\n",
       "    }\n",
       "\n",
       "    .dataframe thead th {\n",
       "        text-align: right;\n",
       "    }\n",
       "</style>\n",
       "<table border=\"1\" class=\"dataframe\">\n",
       "  <thead>\n",
       "    <tr style=\"text-align: right;\">\n",
       "      <th></th>\n",
       "      <th>Order ID</th>\n",
       "      <th>Customer ID</th>\n",
       "      <th>Category</th>\n",
       "      <th>Item</th>\n",
       "      <th>Price</th>\n",
       "      <th>Quantity</th>\n",
       "      <th>Order Total</th>\n",
       "      <th>Order Date</th>\n",
       "      <th>Payment Method</th>\n",
       "    </tr>\n",
       "  </thead>\n",
       "  <tbody>\n",
       "  </tbody>\n",
       "</table>\n",
       "</div>"
      ],
      "text/plain": [
       "Empty DataFrame\n",
       "Columns: [Order ID, Customer ID, Category, Item, Price, Quantity, Order Total, Order Date, Payment Method]\n",
       "Index: []"
      ]
     },
     "execution_count": 213,
     "metadata": {},
     "output_type": "execute_result"
    }
   ],
   "source": [
    "#javobni shu yerda yozing\n",
    "df[df['Item'].str.contains(r'[?#]', na=False)]"
   ]
  },
  {
   "cell_type": "markdown",
   "metadata": {
    "id": "-5uDXOiIDZeG"
   },
   "source": [
    "#**Maʼlumotlarni filtrlash va qayta ishlash**"
   ]
  },
  {
   "cell_type": "markdown",
   "metadata": {
    "id": "TU0D2kyFDxIL"
   },
   "source": [
    "#9) Manfiy narx yoki 0 ga teng narx qiymatlarini toping va ularni qanday oʻzgartirish kerakligini hal qiling."
   ]
  },
  {
   "cell_type": "code",
   "execution_count": 214,
   "metadata": {},
   "outputs": [
    {
     "data": {
      "text/plain": [
       "Order ID          0.0\n",
       "Customer ID       0.0\n",
       "Category          0.0\n",
       "Item              0.0\n",
       "Price             0.0\n",
       "Quantity          0.0\n",
       "Order Total       0.0\n",
       "Order Date        0.0\n",
       "Payment Method    0.0\n",
       "dtype: float64"
      ]
     },
     "execution_count": 214,
     "metadata": {},
     "output_type": "execute_result"
    }
   ],
   "source": [
    "df[df['Price']<0].sum()"
   ]
  },
  {
   "cell_type": "markdown",
   "metadata": {
    "id": "ctW9mQEzHRwE"
   },
   "source": [
    "#10) Boʻsh toifalar (kategoriya) mavjudligini tekshiring va toʻgʻri kategoriya berish strategiyasini ishlab chiqing."
   ]
  },
  {
   "cell_type": "code",
   "execution_count": 215,
   "metadata": {
    "id": "xjZ7EK3SHZJ_"
   },
   "outputs": [
    {
     "data": {
      "text/plain": [
       "Order ID          0\n",
       "Customer ID       0\n",
       "Category          0\n",
       "Item              0\n",
       "Price             0\n",
       "Quantity          0\n",
       "Order Total       0\n",
       "Order Date        0\n",
       "Payment Method    0\n",
       "dtype: int64"
      ]
     },
     "execution_count": 215,
     "metadata": {},
     "output_type": "execute_result"
    }
   ],
   "source": [
    "#javobni shu yerda yozing\n",
    "df.isna().sum()"
   ]
  },
  {
   "cell_type": "markdown",
   "metadata": {
    "id": "fwB59uGdH_bX"
   },
   "source": [
    "#11) Bir xil, lekin turlicha yozilgan qiymatlar (Coffee, cofee, COFEE) mavjudligini tekshiring va tuzating."
   ]
  },
  {
   "cell_type": "code",
   "execution_count": 216,
   "metadata": {
    "id": "VUXL1AKhISvX"
   },
   "outputs": [
    {
     "data": {
      "text/plain": [
       "Order ID          0\n",
       "Customer ID       0\n",
       "Category          0\n",
       "Item              0\n",
       "Price             0\n",
       "Quantity          0\n",
       "Order Total       0\n",
       "Order Date        0\n",
       "Payment Method    0\n",
       "dtype: int64"
      ]
     },
     "execution_count": 216,
     "metadata": {},
     "output_type": "execute_result"
    }
   ],
   "source": [
    "#javobni shu yerda yozing\n",
    "l = ['Coffee', 'cofee', 'COFEE']\n",
    "df.isin(l).sum()"
   ]
  },
  {
   "cell_type": "markdown",
   "metadata": {
    "id": "VnU6WJI5KiKd"
   },
   "source": [
    "#12) `Customer ID` yoki boshqa identifikatorlarning takrorlanishini tekshiring."
   ]
  },
  {
   "cell_type": "code",
   "execution_count": 217,
   "metadata": {
    "id": "rOhrI-2cLFbi"
   },
   "outputs": [
    {
     "data": {
      "text/plain": [
       "array(['Side Salad', 'Mashed Potatoes', 'Grilled Chicken',\n",
       "       'Pasta Alfredo', 'Salmon', 'Garlic Bread', 'Vegetarian Platter',\n",
       "       'Brownie', 'Sweet Potato Fries', 'Lemonade', 'Orange Juice',\n",
       "       'Chocolate Cake', 'Coca Cola', 'Grilled Vegetables',\n",
       "       'Cheese Fries', 'Beef Chili', 'Chicken Melt', 'Fruit Salad',\n",
       "       'French Fries', 'Ice Cream', 'Cheesecake', 'Iced Tea',\n",
       "       'Water (0.5)', 'Nachos Grande', 'Water', 'Onion Rings', 'Steak',\n",
       "       'Lemonade (1.0)'], dtype=object)"
      ]
     },
     "execution_count": 217,
     "metadata": {},
     "output_type": "execute_result"
    }
   ],
   "source": [
    "#javobni shu yerda yozing\n",
    "df.duplicated().sum()\n",
    "df.Item.unique()"
   ]
  },
  {
   "cell_type": "markdown",
   "metadata": {
    "id": "qoVSr-H8LGxq"
   },
   "source": [
    "#13) Mahsulotning ortiqcha taʼriflarini olib tashlang (Water (0.5), Water (1.0), Water → faqat Water qoldirish)."
   ]
  },
  {
   "cell_type": "code",
   "execution_count": 220,
   "metadata": {
    "id": "FXiEr3fiLR3R"
   },
   "outputs": [],
   "source": [
    "#javobni shu yerda yozing\n",
    "dict = {'Water (0.5)':'Water', 'Lemonade (1.0)':'Lemonade'}\n",
    "df.replace(dict, inplace=True)"
   ]
  },
  {
   "cell_type": "markdown",
   "metadata": {
    "id": "uQRzncvaSkv6"
   },
   "source": [
    "#**Qayta ishlangan maʼlumotlar bilan tahlil**"
   ]
  },
  {
   "cell_type": "markdown",
   "metadata": {
    "id": "bAV_IVP0SN6j"
   },
   "source": [
    "#14) Eng koʻp sotilgan 5 ta mahsulotni aniqlang."
   ]
  },
  {
   "cell_type": "code",
   "execution_count": 241,
   "metadata": {
    "id": "dA81q8p-R0mR"
   },
   "outputs": [
    {
     "data": {
      "text/plain": [
       "231    Steak\n",
       "248    Steak\n",
       "385    Steak\n",
       "617    Steak\n",
       "794    Steak\n",
       "Name: Item, dtype: object"
      ]
     },
     "execution_count": 241,
     "metadata": {},
     "output_type": "execute_result"
    }
   ],
   "source": [
    "#javobni shu yerda yozing\n",
    "l = df['Order Total'].nlargest(5).index.to_list()\n",
    "df.loc[l].Item"
   ]
  },
  {
   "cell_type": "markdown",
   "metadata": {
    "id": "4GesRmeJSzAa"
   },
   "source": [
    "#15) Har bir mijoz oʻrtacha qancha pul sarflaganini hisoblang."
   ]
  },
  {
   "cell_type": "code",
   "execution_count": 245,
   "metadata": {
    "id": "vCshapSFS7xZ"
   },
   "outputs": [
    {
     "data": {
      "text/plain": [
       "Customer ID\n",
       "CUST_001    17.959119\n",
       "CUST_002    19.648734\n",
       "CUST_003    17.638889\n",
       "CUST_004    19.838816\n",
       "CUST_005    17.802083\n",
       "              ...    \n",
       "CUST_096    18.790960\n",
       "CUST_097    19.958580\n",
       "CUST_098    19.851515\n",
       "CUST_099    21.029801\n",
       "CUST_100    18.438547\n",
       "Name: Order Total, Length: 100, dtype: float64"
      ]
     },
     "execution_count": 245,
     "metadata": {},
     "output_type": "execute_result"
    }
   ],
   "source": [
    "#javobni shu yerda yozing\n",
    "df.groupby('Customer ID')['Order Total'].mean()"
   ]
  },
  {
   "cell_type": "markdown",
   "metadata": {
    "id": "qG0D7TBcS99v"
   },
   "source": [
    "#16) Mijozlarning qaysi kunlarda koʻproq xarid qilgani bo‘yicha tahlil qiling."
   ]
  },
  {
   "cell_type": "code",
   "execution_count": 248,
   "metadata": {
    "id": "rBu2WVyFTeZX"
   },
   "outputs": [
    {
     "data": {
      "text/plain": [
       "Customer ID\n",
       "CUST_001    159\n",
       "CUST_002    158\n",
       "CUST_003    144\n",
       "CUST_004    152\n",
       "CUST_005    144\n",
       "           ... \n",
       "CUST_096    177\n",
       "CUST_097    169\n",
       "CUST_098    165\n",
       "CUST_099    151\n",
       "CUST_100    179\n",
       "Name: Order Date, Length: 100, dtype: int64"
      ]
     },
     "execution_count": 248,
     "metadata": {},
     "output_type": "execute_result"
    }
   ],
   "source": [
    "#javobni shu yerda yozing\n",
    "df.groupby('Customer ID')['Order Date'].count()"
   ]
  },
  {
   "cell_type": "markdown",
   "metadata": {
    "id": "VIQ4pT7WTIRl"
   },
   "source": [
    "#17) Narxi oʻrtacha narxdan ikki barobar yuqori boʻlgan mahsulotlarni toping."
   ]
  },
  {
   "cell_type": "code",
   "execution_count": 267,
   "metadata": {
    "id": "njavH8XtTYR2"
   },
   "outputs": [
    {
     "data": {
      "text/html": [
       "<div>\n",
       "<style scoped>\n",
       "    .dataframe tbody tr th:only-of-type {\n",
       "        vertical-align: middle;\n",
       "    }\n",
       "\n",
       "    .dataframe tbody tr th {\n",
       "        vertical-align: top;\n",
       "    }\n",
       "\n",
       "    .dataframe thead th {\n",
       "        text-align: right;\n",
       "    }\n",
       "</style>\n",
       "<table border=\"1\" class=\"dataframe\">\n",
       "  <thead>\n",
       "    <tr style=\"text-align: right;\">\n",
       "      <th></th>\n",
       "      <th>Order ID</th>\n",
       "      <th>Customer ID</th>\n",
       "      <th>Category</th>\n",
       "      <th>Item</th>\n",
       "      <th>Price</th>\n",
       "      <th>Quantity</th>\n",
       "      <th>Order Total</th>\n",
       "      <th>Order Date</th>\n",
       "      <th>Payment Method</th>\n",
       "    </tr>\n",
       "  </thead>\n",
       "  <tbody>\n",
       "    <tr>\n",
       "      <th>2</th>\n",
       "      <td>ORD_443849</td>\n",
       "      <td>CUST_029</td>\n",
       "      <td>Main Dishes</td>\n",
       "      <td>Grilled Chicken</td>\n",
       "      <td>15.0</td>\n",
       "      <td>4.0</td>\n",
       "      <td>60.0</td>\n",
       "      <td>2023-09-27</td>\n",
       "      <td>Credit Card</td>\n",
       "    </tr>\n",
       "    <tr>\n",
       "      <th>5</th>\n",
       "      <td>ORD_381680</td>\n",
       "      <td>CUST_031</td>\n",
       "      <td>Main Dishes</td>\n",
       "      <td>Salmon</td>\n",
       "      <td>18.0</td>\n",
       "      <td>5.0</td>\n",
       "      <td>90.0</td>\n",
       "      <td>2022-07-20</td>\n",
       "      <td>Digital Wallet</td>\n",
       "    </tr>\n",
       "    <tr>\n",
       "      <th>9</th>\n",
       "      <td>ORD_743636</td>\n",
       "      <td>CUST_085</td>\n",
       "      <td>Main Dishes</td>\n",
       "      <td>Vegetarian Platter</td>\n",
       "      <td>14.0</td>\n",
       "      <td>5.0</td>\n",
       "      <td>70.0</td>\n",
       "      <td>2022-08-07</td>\n",
       "      <td>Credit Card</td>\n",
       "    </tr>\n",
       "    <tr>\n",
       "      <th>11</th>\n",
       "      <td>ORD_726419</td>\n",
       "      <td>CUST_025</td>\n",
       "      <td>Main Dishes</td>\n",
       "      <td>Salmon</td>\n",
       "      <td>18.0</td>\n",
       "      <td>5.0</td>\n",
       "      <td>90.0</td>\n",
       "      <td>2023-10-30</td>\n",
       "      <td>Cash</td>\n",
       "    </tr>\n",
       "    <tr>\n",
       "      <th>12</th>\n",
       "      <td>ORD_754176</td>\n",
       "      <td>CUST_047</td>\n",
       "      <td>Main Dishes</td>\n",
       "      <td>Salmon</td>\n",
       "      <td>18.0</td>\n",
       "      <td>1.0</td>\n",
       "      <td>18.0</td>\n",
       "      <td>2023-04-11</td>\n",
       "      <td>Cash</td>\n",
       "    </tr>\n",
       "    <tr>\n",
       "      <th>...</th>\n",
       "      <td>...</td>\n",
       "      <td>...</td>\n",
       "      <td>...</td>\n",
       "      <td>...</td>\n",
       "      <td>...</td>\n",
       "      <td>...</td>\n",
       "      <td>...</td>\n",
       "      <td>...</td>\n",
       "      <td>...</td>\n",
       "    </tr>\n",
       "    <tr>\n",
       "      <th>17434</th>\n",
       "      <td>ORD_196563</td>\n",
       "      <td>CUST_098</td>\n",
       "      <td>Main Dishes</td>\n",
       "      <td>Grilled Chicken</td>\n",
       "      <td>15.0</td>\n",
       "      <td>5.0</td>\n",
       "      <td>75.0</td>\n",
       "      <td>2023-05-20</td>\n",
       "      <td>Digital Wallet</td>\n",
       "    </tr>\n",
       "    <tr>\n",
       "      <th>17453</th>\n",
       "      <td>ORD_591820</td>\n",
       "      <td>CUST_082</td>\n",
       "      <td>Main Dishes</td>\n",
       "      <td>Salmon</td>\n",
       "      <td>18.0</td>\n",
       "      <td>3.0</td>\n",
       "      <td>54.0</td>\n",
       "      <td>2023-12-08</td>\n",
       "      <td>Credit Card</td>\n",
       "    </tr>\n",
       "    <tr>\n",
       "      <th>17480</th>\n",
       "      <td>ORD_771570</td>\n",
       "      <td>CUST_093</td>\n",
       "      <td>Main Dishes</td>\n",
       "      <td>Salmon</td>\n",
       "      <td>18.0</td>\n",
       "      <td>2.0</td>\n",
       "      <td>36.0</td>\n",
       "      <td>2023-03-24</td>\n",
       "      <td>Credit Card</td>\n",
       "    </tr>\n",
       "    <tr>\n",
       "      <th>17490</th>\n",
       "      <td>ORD_900549</td>\n",
       "      <td>CUST_047</td>\n",
       "      <td>Main Dishes</td>\n",
       "      <td>Salmon</td>\n",
       "      <td>18.0</td>\n",
       "      <td>2.0</td>\n",
       "      <td>36.0</td>\n",
       "      <td>2023-04-25</td>\n",
       "      <td>Digital Wallet</td>\n",
       "    </tr>\n",
       "    <tr>\n",
       "      <th>17495</th>\n",
       "      <td>ORD_872487</td>\n",
       "      <td>CUST_017</td>\n",
       "      <td>Main Dishes</td>\n",
       "      <td>Steak</td>\n",
       "      <td>20.0</td>\n",
       "      <td>5.0</td>\n",
       "      <td>100.0</td>\n",
       "      <td>2023-11-01</td>\n",
       "      <td>Credit Card</td>\n",
       "    </tr>\n",
       "  </tbody>\n",
       "</table>\n",
       "<p>2200 rows × 9 columns</p>\n",
       "</div>"
      ],
      "text/plain": [
       "         Order ID Customer ID     Category                Item  Price  \\\n",
       "2      ORD_443849    CUST_029  Main Dishes     Grilled Chicken   15.0   \n",
       "5      ORD_381680    CUST_031  Main Dishes              Salmon   18.0   \n",
       "9      ORD_743636    CUST_085  Main Dishes  Vegetarian Platter   14.0   \n",
       "11     ORD_726419    CUST_025  Main Dishes              Salmon   18.0   \n",
       "12     ORD_754176    CUST_047  Main Dishes              Salmon   18.0   \n",
       "...           ...         ...          ...                 ...    ...   \n",
       "17434  ORD_196563    CUST_098  Main Dishes     Grilled Chicken   15.0   \n",
       "17453  ORD_591820    CUST_082  Main Dishes              Salmon   18.0   \n",
       "17480  ORD_771570    CUST_093  Main Dishes              Salmon   18.0   \n",
       "17490  ORD_900549    CUST_047  Main Dishes              Salmon   18.0   \n",
       "17495  ORD_872487    CUST_017  Main Dishes               Steak   20.0   \n",
       "\n",
       "       Quantity  Order Total  Order Date  Payment Method  \n",
       "2           4.0         60.0  2023-09-27     Credit Card  \n",
       "5           5.0         90.0  2022-07-20  Digital Wallet  \n",
       "9           5.0         70.0  2022-08-07     Credit Card  \n",
       "11          5.0         90.0  2023-10-30            Cash  \n",
       "12          1.0         18.0  2023-04-11            Cash  \n",
       "...         ...          ...         ...             ...  \n",
       "17434       5.0         75.0  2023-05-20  Digital Wallet  \n",
       "17453       3.0         54.0  2023-12-08     Credit Card  \n",
       "17480       2.0         36.0  2023-03-24     Credit Card  \n",
       "17490       2.0         36.0  2023-04-25  Digital Wallet  \n",
       "17495       5.0        100.0  2023-11-01     Credit Card  \n",
       "\n",
       "[2200 rows x 9 columns]"
      ]
     },
     "execution_count": 267,
     "metadata": {},
     "output_type": "execute_result"
    }
   ],
   "source": [
    "#javobni shu yerda yozing\n",
    "mean = df['Price'].mean()\n",
    "df[df['Price']>=2 * mean]"
   ]
  },
  {
   "cell_type": "markdown",
   "metadata": {
    "id": "oNKPJK0rTa2b"
   },
   "source": [
    "#18) Mahsulotlar kategoriyalari bo‘yicha tahlil qiling va eng ko‘p sotiladigan kategoriyalarni aniqlang."
   ]
  },
  {
   "cell_type": "code",
   "execution_count": 269,
   "metadata": {
    "id": "NG2v1wYITlDQ"
   },
   "outputs": [
    {
     "data": {
      "text/plain": [
       "(0.999, 10.0]    5855\n",
       "(10.0, 20.0]     5233\n",
       "(20.0, 100.0]    4688\n",
       "Name: Order Total, dtype: int64"
      ]
     },
     "execution_count": 269,
     "metadata": {},
     "output_type": "execute_result"
    }
   ],
   "source": [
    "#javobni shu yerda yozing\n",
    "range2 = pd.qcut(df['Order Total'], 3)\n",
    "range2.value_counts()"
   ]
  },
  {
   "cell_type": "markdown",
   "metadata": {
    "id": "1dvT1qFjTm5J"
   },
   "source": [
    "#19) Har bir mijozning oʻrtacha xarid miqdorini (`groupby(\"customer_id\")`) hisoblang."
   ]
  },
  {
   "cell_type": "code",
   "execution_count": 270,
   "metadata": {
    "id": "2-IMSwaJT1hr"
   },
   "outputs": [
    {
     "data": {
      "text/plain": [
       "Customer ID\n",
       "CUST_001    5.889937\n",
       "CUST_002    6.212025\n",
       "CUST_003    6.236111\n",
       "CUST_004    6.269737\n",
       "CUST_005    5.875000\n",
       "              ...   \n",
       "CUST_096    6.525424\n",
       "CUST_097    6.476331\n",
       "CUST_098    6.669697\n",
       "CUST_099    6.956954\n",
       "CUST_100    6.329609\n",
       "Name: Price, Length: 100, dtype: float64"
      ]
     },
     "execution_count": 270,
     "metadata": {},
     "output_type": "execute_result"
    }
   ],
   "source": [
    "#javobni shu yerda yozing\n",
    "df.groupby('Customer ID')['Price'].mean()"
   ]
  },
  {
   "cell_type": "markdown",
   "metadata": {
    "id": "zkJ-osPCT3xb"
   },
   "source": [
    "#20) Qanday omillar sotuv hajmiga ta’sir qiladi? Bu bo‘yicha umumiy xulosa chiqaring. Javobni quyida kommentariya sifatida yozing!"
   ]
  },
  {
   "cell_type": "code",
   "execution_count": null,
   "metadata": {
    "id": "kFqweyJDUDVp"
   },
   "outputs": [],
   "source": [
    "#javobni shu yerda yozing\n",
    "# yangi taom uchun narxlar\n",
    "# maxsulotning yo'qligi bazi turdagi ovqatlar uchun\n",
    "# to'lov usullarini cheklanganligi\n",
    "# buyurtmani yetkazish vaqti"
   ]
  }
 ],
 "metadata": {
  "colab": {
   "include_colab_link": true,
   "provenance": []
  },
  "kernelspec": {
   "display_name": "Python 3 (ipykernel)",
   "language": "python",
   "name": "python3"
  },
  "language_info": {
   "codemirror_mode": {
    "name": "ipython",
    "version": 3
   },
   "file_extension": ".py",
   "mimetype": "text/x-python",
   "name": "python",
   "nbconvert_exporter": "python",
   "pygments_lexer": "ipython3",
   "version": "3.11.4"
  }
 },
 "nbformat": 4,
 "nbformat_minor": 1
}
