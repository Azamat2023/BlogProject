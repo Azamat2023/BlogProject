{
 "cells": [
  {
   "cell_type": "markdown",
   "metadata": {
    "colab_type": "text",
    "id": "view-in-github"
   },
   "source": [
    "<a href=\"https://colab.research.google.com/github/Azamat2023/BlogProject/blob/master/10_MA%CA%BCLUMOTLARGA_ISHLOV_BERISH_10_11_HTML_JSON_API_o%CA%BBqish.ipynb\" target=\"_parent\"><img src=\"https://colab.research.google.com/assets/colab-badge.svg\" alt=\"Open In Colab\"/></a>"
   ]
  },
  {
   "cell_type": "markdown",
   "metadata": {
    "id": "EM2GVgOYQoEY"
   },
   "source": [
    "![Imgur](https://i.imgur.com/h4PPC71.png)\n",
    "#**10-modul. Maʼlumotlarga ishlov berish. Fayllar va maʼlumotlar ombori**\n",
    "#10.11. Veb sahifalardan oʻqish. JSON va API\n",
    "**Bu vazifalarni bajargach, veb sahifalardan maʼlumot olish, JSON bilan ishlash va API soʻrovlarini yuborish koʻnikmalarini egallaysiz.**"
   ]
  },
  {
   "cell_type": "markdown",
   "metadata": {
    "id": "_0tS60y7Q2qR"
   },
   "source": [
    "#1-topshiriq\n",
    "1. Pandas kutubxonasidan foydalanib, quyida berilgan link ichidan barcha jadvallarni o‘qing va roʻyxat shaklida saqlang.\n",
    " * https://en.wikipedia.org/wiki/Fossil_fuel_exporters\n",
    "2. Har bir jadvalning birinchi 1 qatorini ekranga chiqaring.\n",
    "\n",
    "\n",
    "    "
   ]
  },
  {
   "cell_type": "code",
   "execution_count": 12,
   "metadata": {
    "id": "X_zQXS8pQQM9"
   },
   "outputs": [
    {
     "name": "stdout",
     "output_type": "stream",
     "text": [
      "Topilgan jadvallar soni: 7\n",
      "\n",
      "--- Jadval 1 ---\n",
      "    0                                                  1\n",
      "0 NaN  This article needs to be updated. Please help ...\n",
      "\n",
      "--- Jadval 2 ---\n",
      "   Rank Country/region                       Oil - exports Date of information\n",
      "0     1   Saudi Arabia  6,658,642 bbl/d (1,058,639.5 m3/d)           2020 est.\n",
      "\n",
      "--- Jadval 3 ---\n",
      "   Rank Country/region  Natural gas - exports (cu m) Date of information\n",
      "0     1         Russia                  199928345000           2020 est.\n",
      "\n",
      "--- Jadval 4 ---\n",
      "   Rank    Country  Coal - exports (thousand short tons)  Date of information\n",
      "0     1  Indonesia                                451520                 2020\n",
      "\n",
      "--- Jadval 5 ---\n",
      "  .mw-parser-output .navbar{display:inline;font-size:88%;font-weight:normal}.mw-parser-output .navbar-collapse{float:left;text-align:left}.mw-parser-output .navbar-boxtext{word-spacing:0}.mw-parser-output .navbar ul{display:inline-block;white-space:nowrap;line-height:inherit}.mw-parser-output .navbar-brackets::before{margin-right:-0.125em;content:\"[ \"}.mw-parser-output .navbar-brackets::after{margin-left:-0.125em;content:\" ]\"}.mw-parser-output .navbar li{word-spacing:-0.125em}.mw-parser-output .navbar a>span,.mw-parser-output .navbar a>abbr{text-decoration:inherit}.mw-parser-output .navbar-mini abbr{font-variant:small-caps;border-bottom:none;text-decoration:none;cursor:inherit}.mw-parser-output .navbar-ct-full{font-size:114%;margin:0 7em}.mw-parser-output .navbar-ct-mini{font-size:114%;margin:0 4em}html.skin-theme-clientpref-night .mw-parser-output .navbar li a abbr{color:var(--color-base)!important}@media(prefers-color-scheme:dark){html.skin-theme-clientpref-os .mw-parser-output .navbar li a abbr{color:var(--color-base)!important}}@media print{.mw-parser-output .navbar{display:none!important}}vteLists of countries by energy rankings  \\\n",
      "0                                        Fossil Fuel                                                                                                                                                                                                                                                                                                                                                                                                                                                                                                                                                                                                                                                                                                                                                                                                                                                                                                                                                                                                                                                                                                                                              \n",
      "\n",
      "  .mw-parser-output .navbar{display:inline;font-size:88%;font-weight:normal}.mw-parser-output .navbar-collapse{float:left;text-align:left}.mw-parser-output .navbar-boxtext{word-spacing:0}.mw-parser-output .navbar ul{display:inline-block;white-space:nowrap;line-height:inherit}.mw-parser-output .navbar-brackets::before{margin-right:-0.125em;content:\"[ \"}.mw-parser-output .navbar-brackets::after{margin-left:-0.125em;content:\" ]\"}.mw-parser-output .navbar li{word-spacing:-0.125em}.mw-parser-output .navbar a>span,.mw-parser-output .navbar a>abbr{text-decoration:inherit}.mw-parser-output .navbar-mini abbr{font-variant:small-caps;border-bottom:none;text-decoration:none;cursor:inherit}.mw-parser-output .navbar-ct-full{font-size:114%;margin:0 7em}.mw-parser-output .navbar-ct-mini{font-size:114%;margin:0 4em}html.skin-theme-clientpref-night .mw-parser-output .navbar li a abbr{color:var(--color-base)!important}@media(prefers-color-scheme:dark){html.skin-theme-clientpref-os .mw-parser-output .navbar li a abbr{color:var(--color-base)!important}}@media print{.mw-parser-output .navbar{display:none!important}}vteLists of countries by energy rankings.1  \n",
      "0  Petroleum All Production Consumption Exports I...                                                                                                                                                                                                                                                                                                                                                                                                                                                                                                                                                                                                                                                                                                                                                                                                                                                                                                                                                                                                                                                                                                                                               \n",
      "\n",
      "--- Jadval 6 ---\n",
      "           0                                                  1\n",
      "0  Petroleum  All Production Consumption Exports Imports Res...\n",
      "\n",
      "--- Jadval 7 ---\n",
      "         0                                   1\n",
      "0  Uranium  All Production Generation Reserves\n",
      "\n"
     ]
    }
   ],
   "source": [
    "#javobni shu yerda yozing.\n",
    "import pandas as pd\n",
    "url = \"https://en.wikipedia.org/wiki/Fossil_fuel_exporters\"\n",
    "tables = pd.read_html(url)\n",
    "print(f\"Topilgan jadvallar soni: {len(tables)}\\n\")\n",
    "\n",
    "for i, table in enumerate(tables):\n",
    "    print(f\"--- Jadval {i+1} ---\")\n",
    "    print(table.head(1))  # faqat birinchi qator\n",
    "    print()"
   ]
  },
  {
   "cell_type": "markdown",
   "metadata": {
    "id": "yHO8vEOAdIok"
   },
   "source": [
    "#2-topshiriq\n",
    "Yuqorida yaratilgan jadvallar roʻyxatidan eng uzunini `largest_data.csv` fayliga saqlang."
   ]
  },
  {
   "cell_type": "code",
   "execution_count": 18,
   "metadata": {
    "id": "grUro0-AeGz4"
   },
   "outputs": [],
   "source": [
    "#javobni shu yerda yozing.\n",
    "largest_table = max(tables, key=lambda df: len(df))\n",
    "largest_table.to_csv(\"largest_data.csv\", index=False)"
   ]
  },
  {
   "cell_type": "markdown",
   "metadata": {
    "id": "Cf5ZgJAce_QS"
   },
   "source": [
    "#3-topshiriq\n",
    "1. Quyidagi link orqali json maʼlumotni yuklab oling va uni climate_change_co2.json nomi bilan saqlang.\n",
    " * https://raw.githubusercontent.com/alishermutalov/praktikum-datasets/refs/heads/praktikum/json_data.json\n",
    "2. Maʼlumotlar boshidan 5 ta qatorni ekranga chiqaring!\n"
   ]
  },
  {
   "cell_type": "code",
   "execution_count": 24,
   "metadata": {
    "id": "J30yFArNu6UN"
   },
   "outputs": [
    {
     "data": {
      "text/html": [
       "<div>\n",
       "<style scoped>\n",
       "    .dataframe tbody tr th:only-of-type {\n",
       "        vertical-align: middle;\n",
       "    }\n",
       "\n",
       "    .dataframe tbody tr th {\n",
       "        vertical-align: top;\n",
       "    }\n",
       "\n",
       "    .dataframe thead th {\n",
       "        text-align: right;\n",
       "    }\n",
       "</style>\n",
       "<table border=\"1\" class=\"dataframe\">\n",
       "  <thead>\n",
       "    <tr style=\"text-align: right;\">\n",
       "      <th></th>\n",
       "      <th>Year</th>\n",
       "      <th>Total</th>\n",
       "      <th>Gas Fuel</th>\n",
       "      <th>Liquid Fuel</th>\n",
       "      <th>Solid Fuel</th>\n",
       "      <th>Cement</th>\n",
       "      <th>Gas Flaring</th>\n",
       "      <th>Per Capita</th>\n",
       "    </tr>\n",
       "  </thead>\n",
       "  <tbody>\n",
       "    <tr>\n",
       "      <th>0</th>\n",
       "      <td>2010</td>\n",
       "      <td>9167</td>\n",
       "      <td>1702</td>\n",
       "      <td>3114</td>\n",
       "      <td>3842</td>\n",
       "      <td>450</td>\n",
       "      <td>59</td>\n",
       "      <td>1.33</td>\n",
       "    </tr>\n",
       "    <tr>\n",
       "      <th>1</th>\n",
       "      <td>2009</td>\n",
       "      <td>8740</td>\n",
       "      <td>1585</td>\n",
       "      <td>3056</td>\n",
       "      <td>3620</td>\n",
       "      <td>413</td>\n",
       "      <td>66</td>\n",
       "      <td>1.28</td>\n",
       "    </tr>\n",
       "    <tr>\n",
       "      <th>2</th>\n",
       "      <td>2008</td>\n",
       "      <td>8783</td>\n",
       "      <td>1631</td>\n",
       "      <td>3122</td>\n",
       "      <td>3571</td>\n",
       "      <td>388</td>\n",
       "      <td>71</td>\n",
       "      <td>1.30</td>\n",
       "    </tr>\n",
       "    <tr>\n",
       "      <th>3</th>\n",
       "      <td>2007</td>\n",
       "      <td>8566</td>\n",
       "      <td>1572</td>\n",
       "      <td>3081</td>\n",
       "      <td>3464</td>\n",
       "      <td>382</td>\n",
       "      <td>68</td>\n",
       "      <td>1.28</td>\n",
       "    </tr>\n",
       "    <tr>\n",
       "      <th>4</th>\n",
       "      <td>2006</td>\n",
       "      <td>8370</td>\n",
       "      <td>1525</td>\n",
       "      <td>3089</td>\n",
       "      <td>3339</td>\n",
       "      <td>356</td>\n",
       "      <td>61</td>\n",
       "      <td>1.27</td>\n",
       "    </tr>\n",
       "  </tbody>\n",
       "</table>\n",
       "</div>"
      ],
      "text/plain": [
       "   Year  Total  Gas Fuel  Liquid Fuel  Solid Fuel  Cement  Gas Flaring  \\\n",
       "0  2010   9167      1702         3114        3842     450           59   \n",
       "1  2009   8740      1585         3056        3620     413           66   \n",
       "2  2008   8783      1631         3122        3571     388           71   \n",
       "3  2007   8566      1572         3081        3464     382           68   \n",
       "4  2006   8370      1525         3089        3339     356           61   \n",
       "\n",
       "   Per Capita  \n",
       "0        1.33  \n",
       "1        1.28  \n",
       "2        1.30  \n",
       "3        1.28  \n",
       "4        1.27  "
      ]
     },
     "execution_count": 24,
     "metadata": {},
     "output_type": "execute_result"
    }
   ],
   "source": [
    "#javobni shu yerda yozing.\n",
    "import requests\n",
    "url = \"https://raw.githubusercontent.com/alishermutalov/praktikum-datasets/refs/heads/praktikum/json_data.json\"\n",
    "r = requests.get(url)\n",
    "pd.DataFrame(r.json()).to_json(\"climate_change_co2.json\")\n",
    "pd.read_json(\"climate_change_co2.json\").head(5)"
   ]
  },
  {
   "cell_type": "markdown",
   "metadata": {
    "id": "Sp027Kpn0cLH"
   },
   "source": [
    "#4-topshiriq\n",
    "1. Quyida berilgan linkga `get` soʻrovini yuborish orqali `json` maʼlumotlarini `posts.json` fayliga saqlang.\n",
    "  * https://jsonplaceholder.typicode.com/posts/\n",
    "2. Ushbu maʼlumotlarni dataframe koʻrinishida saqlang va tasodifiy 5 ta qatorni ekranga chiqaring."
   ]
  },
  {
   "cell_type": "code",
   "execution_count": 32,
   "metadata": {
    "id": "q7d__iIX3n61"
   },
   "outputs": [
    {
     "data": {
      "text/html": [
       "<div>\n",
       "<style scoped>\n",
       "    .dataframe tbody tr th:only-of-type {\n",
       "        vertical-align: middle;\n",
       "    }\n",
       "\n",
       "    .dataframe tbody tr th {\n",
       "        vertical-align: top;\n",
       "    }\n",
       "\n",
       "    .dataframe thead th {\n",
       "        text-align: right;\n",
       "    }\n",
       "</style>\n",
       "<table border=\"1\" class=\"dataframe\">\n",
       "  <thead>\n",
       "    <tr style=\"text-align: right;\">\n",
       "      <th></th>\n",
       "      <th>userId</th>\n",
       "      <th>id</th>\n",
       "      <th>title</th>\n",
       "      <th>body</th>\n",
       "    </tr>\n",
       "  </thead>\n",
       "  <tbody>\n",
       "    <tr>\n",
       "      <th>0</th>\n",
       "      <td>1</td>\n",
       "      <td>1</td>\n",
       "      <td>sunt aut facere repellat provident occaecati e...</td>\n",
       "      <td>quia et suscipit\\nsuscipit recusandae consequu...</td>\n",
       "    </tr>\n",
       "    <tr>\n",
       "      <th>1</th>\n",
       "      <td>1</td>\n",
       "      <td>2</td>\n",
       "      <td>qui est esse</td>\n",
       "      <td>est rerum tempore vitae\\nsequi sint nihil repr...</td>\n",
       "    </tr>\n",
       "    <tr>\n",
       "      <th>2</th>\n",
       "      <td>1</td>\n",
       "      <td>3</td>\n",
       "      <td>ea molestias quasi exercitationem repellat qui...</td>\n",
       "      <td>et iusto sed quo iure\\nvoluptatem occaecati om...</td>\n",
       "    </tr>\n",
       "    <tr>\n",
       "      <th>3</th>\n",
       "      <td>1</td>\n",
       "      <td>4</td>\n",
       "      <td>eum et est occaecati</td>\n",
       "      <td>ullam et saepe reiciendis voluptatem adipisci\\...</td>\n",
       "    </tr>\n",
       "    <tr>\n",
       "      <th>4</th>\n",
       "      <td>1</td>\n",
       "      <td>5</td>\n",
       "      <td>nesciunt quas odio</td>\n",
       "      <td>repudiandae veniam quaerat sunt sed\\nalias aut...</td>\n",
       "    </tr>\n",
       "  </tbody>\n",
       "</table>\n",
       "</div>"
      ],
      "text/plain": [
       "   userId  id                                              title  \\\n",
       "0       1   1  sunt aut facere repellat provident occaecati e...   \n",
       "1       1   2                                       qui est esse   \n",
       "2       1   3  ea molestias quasi exercitationem repellat qui...   \n",
       "3       1   4                               eum et est occaecati   \n",
       "4       1   5                                 nesciunt quas odio   \n",
       "\n",
       "                                                body  \n",
       "0  quia et suscipit\\nsuscipit recusandae consequu...  \n",
       "1  est rerum tempore vitae\\nsequi sint nihil repr...  \n",
       "2  et iusto sed quo iure\\nvoluptatem occaecati om...  \n",
       "3  ullam et saepe reiciendis voluptatem adipisci\\...  \n",
       "4  repudiandae veniam quaerat sunt sed\\nalias aut...  "
      ]
     },
     "execution_count": 32,
     "metadata": {},
     "output_type": "execute_result"
    }
   ],
   "source": [
    "url = \"https://jsonplaceholder.typicode.com/posts/\"\n",
    "r = requests.get(url)\n",
    "pd.DataFrame(r.json()).to_json(\"posts.json\")\n",
    "pd.read_json(\"posts.json\").head(5)\n",
    "#javobni shu yerga yozing."
   ]
  },
  {
   "cell_type": "code",
   "execution_count": null,
   "metadata": {},
   "outputs": [],
   "source": []
  }
 ],
 "metadata": {
  "colab": {
   "include_colab_link": true,
   "provenance": []
  },
  "kernelspec": {
   "display_name": "Python 3 (ipykernel)",
   "language": "python",
   "name": "python3"
  },
  "language_info": {
   "codemirror_mode": {
    "name": "ipython",
    "version": 3
   },
   "file_extension": ".py",
   "mimetype": "text/x-python",
   "name": "python",
   "nbconvert_exporter": "python",
   "pygments_lexer": "ipython3",
   "version": "3.11.4"
  }
 },
 "nbformat": 4,
 "nbformat_minor": 1
}
