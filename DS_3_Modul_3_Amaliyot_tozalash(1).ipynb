{
 "cells": [
  {
   "cell_type": "markdown",
   "metadata": {
    "colab_type": "text",
    "id": "view-in-github"
   },
   "source": [
    "<a href=\"https://colab.research.google.com/github/Azamat2023/Data-science-and-AI/blob/master/DS_3_Modul_3_Amaliyot_tozalash.ipynb\" target=\"_parent\"><img src=\"https://colab.research.google.com/assets/colab-badge.svg\" alt=\"Open In Colab\"/></a>"
   ]
  },
  {
   "cell_type": "markdown",
   "metadata": {
    "id": "poH5phdmhSLa"
   },
   "source": [
    "# ![Imgur](https://i.imgur.com/5pXzCIu.png)\n",
    "\n",
    "# **DATA SCIENCE VA SUN'IY INTELLEKT PRAKTIKUM**\n",
    "\n",
    "## 3.2 Ma'lumotlarni tayyorlash\n",
    "\n",
    "# **AMALIYOT**\n",
    "## Ma'lumotlarga ishlov berish\n",
    "\n",
    "\n",
    "\n"
   ]
  },
  {
   "cell_type": "code",
   "execution_count": 33,
   "metadata": {
    "id": "wX08M2KIMfHY"
   },
   "outputs": [],
   "source": [
    "import pandas as pd\n",
    "import numpy as np"
   ]
  },
  {
   "cell_type": "code",
   "execution_count": 65,
   "metadata": {
    "colab": {
     "base_uri": "https://localhost:8080/",
     "height": 337
    },
    "id": "E-eS1Sx-MiTH",
    "outputId": "d3c1dc4e-1541-4429-e623-1c120daea5d9"
   },
   "outputs": [
    {
     "data": {
      "text/html": [
       "<div>\n",
       "<style scoped>\n",
       "    .dataframe tbody tr th:only-of-type {\n",
       "        vertical-align: middle;\n",
       "    }\n",
       "\n",
       "    .dataframe tbody tr th {\n",
       "        vertical-align: top;\n",
       "    }\n",
       "\n",
       "    .dataframe thead th {\n",
       "        text-align: right;\n",
       "    }\n",
       "</style>\n",
       "<table border=\"1\" class=\"dataframe\">\n",
       "  <thead>\n",
       "    <tr style=\"text-align: right;\">\n",
       "      <th></th>\n",
       "      <th>Sno</th>\n",
       "      <th>AGE</th>\n",
       "      <th>SEX</th>\n",
       "      <th>CASTE_NAME</th>\n",
       "      <th>CATEGORY_CODE</th>\n",
       "      <th>CATEGORY_NAME</th>\n",
       "      <th>SURGERY_CODE</th>\n",
       "      <th>SURGERY</th>\n",
       "      <th>VILLAGE</th>\n",
       "      <th>MANDAL_NAME</th>\n",
       "      <th>...</th>\n",
       "      <th>CLAIM_DATE</th>\n",
       "      <th>CLAIM_AMOUNT</th>\n",
       "      <th>HOSP_NAME</th>\n",
       "      <th>HOSP_TYPE</th>\n",
       "      <th>HOSP_DISTRICT</th>\n",
       "      <th>SURGERY_DATE</th>\n",
       "      <th>DISCHARGE_DATE</th>\n",
       "      <th>Mortality Y / N</th>\n",
       "      <th>MORTALITY_DATE</th>\n",
       "      <th>SRC_REGISTRATION</th>\n",
       "    </tr>\n",
       "  </thead>\n",
       "  <tbody>\n",
       "    <tr>\n",
       "      <th>0</th>\n",
       "      <td>1</td>\n",
       "      <td>56</td>\n",
       "      <td>Female</td>\n",
       "      <td>BC</td>\n",
       "      <td>M6</td>\n",
       "      <td>NEPHROLOGY</td>\n",
       "      <td>M6.5</td>\n",
       "      <td>Maintenance Hemodialysis For Crf</td>\n",
       "      <td>Lolugu</td>\n",
       "      <td>Ponduru</td>\n",
       "      <td>...</td>\n",
       "      <td>22-03-2017 20:25</td>\n",
       "      <td>11000</td>\n",
       "      <td>Rims Govt. General Hospital, Srikakulam</td>\n",
       "      <td>G</td>\n",
       "      <td>Srikakulam</td>\n",
       "      <td>06-08-2013 00:00</td>\n",
       "      <td>07-09-2013 00:00</td>\n",
       "      <td>NO</td>\n",
       "      <td>NaN</td>\n",
       "      <td>D</td>\n",
       "    </tr>\n",
       "    <tr>\n",
       "      <th>1</th>\n",
       "      <td>2</td>\n",
       "      <td>37</td>\n",
       "      <td>Male</td>\n",
       "      <td>BC</td>\n",
       "      <td>M6</td>\n",
       "      <td>NEPHROLOGY</td>\n",
       "      <td>M6.5</td>\n",
       "      <td>Maintenance Hemodialysis For Crf</td>\n",
       "      <td>Borivanka</td>\n",
       "      <td>Kaviti</td>\n",
       "      <td>...</td>\n",
       "      <td>22-03-2017 20:25</td>\n",
       "      <td>11000</td>\n",
       "      <td>Rims Govt. General Hospital, Srikakulam</td>\n",
       "      <td>G</td>\n",
       "      <td>Srikakulam</td>\n",
       "      <td>08-08-2013 00:00</td>\n",
       "      <td>09-09-2013 00:00</td>\n",
       "      <td>NO</td>\n",
       "      <td>NaN</td>\n",
       "      <td>D</td>\n",
       "    </tr>\n",
       "    <tr>\n",
       "      <th>2</th>\n",
       "      <td>3</td>\n",
       "      <td>50</td>\n",
       "      <td>Male</td>\n",
       "      <td>BC</td>\n",
       "      <td>M6</td>\n",
       "      <td>NEPHROLOGY</td>\n",
       "      <td>M6.5</td>\n",
       "      <td>Maintenance Hemodialysis For Crf</td>\n",
       "      <td>Kapasakuddi</td>\n",
       "      <td>Kaviti</td>\n",
       "      <td>...</td>\n",
       "      <td>22-03-2017 20:25</td>\n",
       "      <td>11500</td>\n",
       "      <td>Rims Govt. General Hospital, Srikakulam</td>\n",
       "      <td>G</td>\n",
       "      <td>Srikakulam</td>\n",
       "      <td>15-08-2013 00:00</td>\n",
       "      <td>18-10-2013 00:00</td>\n",
       "      <td>NO</td>\n",
       "      <td>NaN</td>\n",
       "      <td>D</td>\n",
       "    </tr>\n",
       "  </tbody>\n",
       "</table>\n",
       "<p>3 rows × 23 columns</p>\n",
       "</div>"
      ],
      "text/plain": [
       "   Sno  AGE     SEX CASTE_NAME CATEGORY_CODE CATEGORY_NAME SURGERY_CODE  \\\n",
       "0    1   56  Female         BC            M6    NEPHROLOGY         M6.5   \n",
       "1    2   37    Male         BC            M6    NEPHROLOGY         M6.5   \n",
       "2    3   50    Male         BC            M6    NEPHROLOGY         M6.5   \n",
       "\n",
       "                            SURGERY      VILLAGE MANDAL_NAME  ...  \\\n",
       "0  Maintenance Hemodialysis For Crf       Lolugu     Ponduru  ...   \n",
       "1  Maintenance Hemodialysis For Crf    Borivanka      Kaviti  ...   \n",
       "2  Maintenance Hemodialysis For Crf  Kapasakuddi      Kaviti  ...   \n",
       "\n",
       "         CLAIM_DATE CLAIM_AMOUNT                                HOSP_NAME  \\\n",
       "0  22-03-2017 20:25        11000  Rims Govt. General Hospital, Srikakulam   \n",
       "1  22-03-2017 20:25        11000  Rims Govt. General Hospital, Srikakulam   \n",
       "2  22-03-2017 20:25        11500  Rims Govt. General Hospital, Srikakulam   \n",
       "\n",
       "  HOSP_TYPE  HOSP_DISTRICT      SURGERY_DATE    DISCHARGE_DATE  \\\n",
       "0         G     Srikakulam  06-08-2013 00:00  07-09-2013 00:00   \n",
       "1         G     Srikakulam  08-08-2013 00:00  09-09-2013 00:00   \n",
       "2         G     Srikakulam  15-08-2013 00:00  18-10-2013 00:00   \n",
       "\n",
       "  Mortality Y / N MORTALITY_DATE SRC_REGISTRATION  \n",
       "0              NO            NaN                D  \n",
       "1              NO            NaN                D  \n",
       "2              NO            NaN                D  \n",
       "\n",
       "[3 rows x 23 columns]"
      ]
     },
     "execution_count": 65,
     "metadata": {},
     "output_type": "execute_result"
    }
   ],
   "source": [
    "df = pd.read_csv(\"healt_info.csv\")\n",
    "df.head(3)"
   ]
  },
  {
   "cell_type": "markdown",
   "metadata": {
    "id": "tsm8uZ0JMr5m"
   },
   "source": [
    "Bu dataset sug'urta kompaniyasining real ma'lumotlardan tuzilgan. Bu datasetda 480000 qator sug'urta ma'lumotlar tashkil topgan.\n",
    "Quyida datasetning ba'zi ustunlari haqida qisqacha ma'lumot\n",
    "\n",
    "*   Sno = seriya raqami\n",
    "*   AGE = yoshi\n",
    "*   SEX = jinsi (female = ayol, male = erkak)\n",
    "*   CASTE_NAME = kasta nomi (Hindistonda har bir inson ma'lum bir kastaga oid bo'ladi)\n",
    "*   CATEGORY_CODE = kategoriya kodi\n",
    "*   CATEGORY_Name = kategoriya nomi\n",
    "*   SURGERY_CODE = operatsiya kodi\n",
    "*   Mandal_Name = mandal nomlanishi ya'ni familiyasi desak ham bo'ladi\n",
    "*   Mortality Y/N = vafot etgan yoki vafot etmaganligi\n",
    "*   MORTALITY_DATE = qachon vafot etganligi\n",
    "\n",
    "\n",
    "\n"
   ]
  },
  {
   "cell_type": "markdown",
   "metadata": {
    "id": "FNLOb9yhxI0b"
   },
   "source": [
    "### **1-mashq**. Datasetdagi barcha takrorlangan qatorlar sonini toping"
   ]
  },
  {
   "cell_type": "code",
   "execution_count": 66,
   "metadata": {
    "id": "o64K3q-UBNAm"
   },
   "outputs": [
    {
     "data": {
      "text/plain": [
       "0"
      ]
     },
     "execution_count": 66,
     "metadata": {},
     "output_type": "execute_result"
    }
   ],
   "source": [
    "# Javobni shuyerga yozing\n",
    "sum(df.duplicated())"
   ]
  },
  {
   "cell_type": "code",
   "execution_count": 67,
   "metadata": {
    "cellView": "form",
    "id": "2aiD_0BiOrsy"
   },
   "outputs": [
    {
     "data": {
      "text/plain": [
       "0"
      ]
     },
     "execution_count": 67,
     "metadata": {},
     "output_type": "execute_result"
    }
   ],
   "source": [
    "#@title **To'g'ri javob**\n",
    "sum(df.duplicated())"
   ]
  },
  {
   "cell_type": "markdown",
   "metadata": {
    "id": "9GJiUd445Kr1"
   },
   "source": [
    "#### **2-mashq**. Datasetdagi quyidagi ustunlar o'chirib yuborilsin:<br>\n",
    "*   Sno\n",
    "*   CATEGORY_CODE\n",
    "*   SURGERY_CODE\n",
    "*   MANDAL_NAME\n",
    "*   DISTRICT_NAME\n",
    "*   HOSP_DISTRICT\n",
    "<BR>\n"
   ]
  },
  {
   "cell_type": "code",
   "execution_count": 68,
   "metadata": {
    "id": "W8LCqh3466n-"
   },
   "outputs": [
    {
     "data": {
      "text/html": [
       "<div>\n",
       "<style scoped>\n",
       "    .dataframe tbody tr th:only-of-type {\n",
       "        vertical-align: middle;\n",
       "    }\n",
       "\n",
       "    .dataframe tbody tr th {\n",
       "        vertical-align: top;\n",
       "    }\n",
       "\n",
       "    .dataframe thead th {\n",
       "        text-align: right;\n",
       "    }\n",
       "</style>\n",
       "<table border=\"1\" class=\"dataframe\">\n",
       "  <thead>\n",
       "    <tr style=\"text-align: right;\">\n",
       "      <th></th>\n",
       "      <th>AGE</th>\n",
       "      <th>SEX</th>\n",
       "      <th>CASTE_NAME</th>\n",
       "      <th>CATEGORY_NAME</th>\n",
       "      <th>SURGERY</th>\n",
       "      <th>VILLAGE</th>\n",
       "      <th>PREAUTH_DATE</th>\n",
       "      <th>PREAUTH_AMT</th>\n",
       "      <th>CLAIM_DATE</th>\n",
       "      <th>CLAIM_AMOUNT</th>\n",
       "      <th>HOSP_NAME</th>\n",
       "      <th>HOSP_TYPE</th>\n",
       "      <th>SURGERY_DATE</th>\n",
       "      <th>DISCHARGE_DATE</th>\n",
       "      <th>Mortality Y / N</th>\n",
       "      <th>MORTALITY_DATE</th>\n",
       "      <th>SRC_REGISTRATION</th>\n",
       "    </tr>\n",
       "  </thead>\n",
       "  <tbody>\n",
       "    <tr>\n",
       "      <th>0</th>\n",
       "      <td>56</td>\n",
       "      <td>Female</td>\n",
       "      <td>BC</td>\n",
       "      <td>NEPHROLOGY</td>\n",
       "      <td>Maintenance Hemodialysis For Crf</td>\n",
       "      <td>Lolugu</td>\n",
       "      <td>03-08-2013 20:38</td>\n",
       "      <td>12500</td>\n",
       "      <td>22-03-2017 20:25</td>\n",
       "      <td>11000</td>\n",
       "      <td>Rims Govt. General Hospital, Srikakulam</td>\n",
       "      <td>G</td>\n",
       "      <td>06-08-2013 00:00</td>\n",
       "      <td>07-09-2013 00:00</td>\n",
       "      <td>NO</td>\n",
       "      <td>NaN</td>\n",
       "      <td>D</td>\n",
       "    </tr>\n",
       "    <tr>\n",
       "      <th>1</th>\n",
       "      <td>37</td>\n",
       "      <td>Male</td>\n",
       "      <td>BC</td>\n",
       "      <td>NEPHROLOGY</td>\n",
       "      <td>Maintenance Hemodialysis For Crf</td>\n",
       "      <td>Borivanka</td>\n",
       "      <td>06-08-2013 07:26</td>\n",
       "      <td>12500</td>\n",
       "      <td>22-03-2017 20:25</td>\n",
       "      <td>11000</td>\n",
       "      <td>Rims Govt. General Hospital, Srikakulam</td>\n",
       "      <td>G</td>\n",
       "      <td>08-08-2013 00:00</td>\n",
       "      <td>09-09-2013 00:00</td>\n",
       "      <td>NO</td>\n",
       "      <td>NaN</td>\n",
       "      <td>D</td>\n",
       "    </tr>\n",
       "    <tr>\n",
       "      <th>2</th>\n",
       "      <td>50</td>\n",
       "      <td>Male</td>\n",
       "      <td>BC</td>\n",
       "      <td>NEPHROLOGY</td>\n",
       "      <td>Maintenance Hemodialysis For Crf</td>\n",
       "      <td>Kapasakuddi</td>\n",
       "      <td>09-08-2013 18:30</td>\n",
       "      <td>12500</td>\n",
       "      <td>22-03-2017 20:25</td>\n",
       "      <td>11500</td>\n",
       "      <td>Rims Govt. General Hospital, Srikakulam</td>\n",
       "      <td>G</td>\n",
       "      <td>15-08-2013 00:00</td>\n",
       "      <td>18-10-2013 00:00</td>\n",
       "      <td>NO</td>\n",
       "      <td>NaN</td>\n",
       "      <td>D</td>\n",
       "    </tr>\n",
       "  </tbody>\n",
       "</table>\n",
       "</div>"
      ],
      "text/plain": [
       "   AGE     SEX CASTE_NAME CATEGORY_NAME                           SURGERY  \\\n",
       "0   56  Female         BC    NEPHROLOGY  Maintenance Hemodialysis For Crf   \n",
       "1   37    Male         BC    NEPHROLOGY  Maintenance Hemodialysis For Crf   \n",
       "2   50    Male         BC    NEPHROLOGY  Maintenance Hemodialysis For Crf   \n",
       "\n",
       "       VILLAGE      PREAUTH_DATE  PREAUTH_AMT        CLAIM_DATE  CLAIM_AMOUNT  \\\n",
       "0       Lolugu  03-08-2013 20:38        12500  22-03-2017 20:25         11000   \n",
       "1    Borivanka  06-08-2013 07:26        12500  22-03-2017 20:25         11000   \n",
       "2  Kapasakuddi  09-08-2013 18:30        12500  22-03-2017 20:25         11500   \n",
       "\n",
       "                                 HOSP_NAME HOSP_TYPE      SURGERY_DATE  \\\n",
       "0  Rims Govt. General Hospital, Srikakulam         G  06-08-2013 00:00   \n",
       "1  Rims Govt. General Hospital, Srikakulam         G  08-08-2013 00:00   \n",
       "2  Rims Govt. General Hospital, Srikakulam         G  15-08-2013 00:00   \n",
       "\n",
       "     DISCHARGE_DATE Mortality Y / N MORTALITY_DATE SRC_REGISTRATION  \n",
       "0  07-09-2013 00:00              NO            NaN                D  \n",
       "1  09-09-2013 00:00              NO            NaN                D  \n",
       "2  18-10-2013 00:00              NO            NaN                D  "
      ]
     },
     "execution_count": 68,
     "metadata": {},
     "output_type": "execute_result"
    }
   ],
   "source": [
    "# Javobni shuyerga yozing\n",
    "l = ['Sno','CATEGORY_CODE','SURGERY_CODE','MANDAL_NAME','DISTRICT_NAME','HOSP_DISTRICT']\n",
    "df.drop(l,axis='columns', inplace=True)\n",
    "df.head(3)"
   ]
  },
  {
   "cell_type": "code",
   "execution_count": 43,
   "metadata": {
    "cellView": "form",
    "id": "tQmeaOg19flk"
   },
   "outputs": [],
   "source": [
    "#@title **To'g'ri javob**\n",
    "df.drop(['Sno','CATEGORY_CODE','SURGERY_CODE','MANDAL_NAME','DISTRICT_NAME','HOSP_DISTRICT'],axis='columns',inplace=True)\n",
    "df"
   ]
  },
  {
   "cell_type": "markdown",
   "metadata": {
    "id": "wVuuU-XZO-0Y"
   },
   "source": [
    "#### **3-mashq**. Datasetdagi sex(jinsi) nomli qatordagi qiymatlarni unique funksiyasi orqali tekshiring.\n",
    "\n",
    "\n"
   ]
  },
  {
   "cell_type": "code",
   "execution_count": 69,
   "metadata": {
    "id": "i9e_7Icu0Xms"
   },
   "outputs": [
    {
     "data": {
      "text/plain": [
       "array(['Female', 'Male', 'Male(Child)', 'Female(Child)', 'FEMALE'],\n",
       "      dtype=object)"
      ]
     },
     "execution_count": 69,
     "metadata": {},
     "output_type": "execute_result"
    }
   ],
   "source": [
    "# Javobni shuyerga yozing\n",
    "df[\"SEX\"].unique()"
   ]
  },
  {
   "cell_type": "code",
   "execution_count": null,
   "metadata": {
    "cellView": "form",
    "id": "Wa7bvsLs05wT"
   },
   "outputs": [],
   "source": [
    "#@title **To'g'ri javob**\n",
    "df[\"SEX\"].unique()"
   ]
  },
  {
   "cell_type": "markdown",
   "metadata": {
    "id": "nfwZ0uQo1xXm"
   },
   "source": [
    "#### **4-mashq**. Datasetdagi sex(jinsi) nomli qatordagi qiymatlarni **Erkak** va **Ayol** ga o'zgartiring:\n",
    "O'zgartirish quyidagicha bo'lsin:\n",
    "\n",
    "\n",
    "*   Male -> Erkak\n",
    "*   Male(child) -> Erkak\n",
    "*   Female - > Ayol\n",
    "*   Female(child) - Ayol\n",
    "*   MALE -> Erkak\n",
    "*   FEMALE -> Ayol\n",
    "\n",
    "\n",
    "\n"
   ]
  },
  {
   "cell_type": "code",
   "execution_count": 70,
   "metadata": {
    "id": "54IqaOmz159z"
   },
   "outputs": [
    {
     "data": {
      "text/html": [
       "<div>\n",
       "<style scoped>\n",
       "    .dataframe tbody tr th:only-of-type {\n",
       "        vertical-align: middle;\n",
       "    }\n",
       "\n",
       "    .dataframe tbody tr th {\n",
       "        vertical-align: top;\n",
       "    }\n",
       "\n",
       "    .dataframe thead th {\n",
       "        text-align: right;\n",
       "    }\n",
       "</style>\n",
       "<table border=\"1\" class=\"dataframe\">\n",
       "  <thead>\n",
       "    <tr style=\"text-align: right;\">\n",
       "      <th></th>\n",
       "      <th>AGE</th>\n",
       "      <th>SEX</th>\n",
       "      <th>CASTE_NAME</th>\n",
       "      <th>CATEGORY_NAME</th>\n",
       "      <th>SURGERY</th>\n",
       "      <th>VILLAGE</th>\n",
       "      <th>PREAUTH_DATE</th>\n",
       "      <th>PREAUTH_AMT</th>\n",
       "      <th>CLAIM_DATE</th>\n",
       "      <th>CLAIM_AMOUNT</th>\n",
       "      <th>HOSP_NAME</th>\n",
       "      <th>HOSP_TYPE</th>\n",
       "      <th>SURGERY_DATE</th>\n",
       "      <th>DISCHARGE_DATE</th>\n",
       "      <th>Mortality Y / N</th>\n",
       "      <th>MORTALITY_DATE</th>\n",
       "      <th>SRC_REGISTRATION</th>\n",
       "    </tr>\n",
       "  </thead>\n",
       "  <tbody>\n",
       "    <tr>\n",
       "      <th>0</th>\n",
       "      <td>56</td>\n",
       "      <td>Ayol</td>\n",
       "      <td>BC</td>\n",
       "      <td>NEPHROLOGY</td>\n",
       "      <td>Maintenance Hemodialysis For Crf</td>\n",
       "      <td>Lolugu</td>\n",
       "      <td>03-08-2013 20:38</td>\n",
       "      <td>12500</td>\n",
       "      <td>22-03-2017 20:25</td>\n",
       "      <td>11000</td>\n",
       "      <td>Rims Govt. General Hospital, Srikakulam</td>\n",
       "      <td>G</td>\n",
       "      <td>06-08-2013 00:00</td>\n",
       "      <td>07-09-2013 00:00</td>\n",
       "      <td>NO</td>\n",
       "      <td>NaN</td>\n",
       "      <td>D</td>\n",
       "    </tr>\n",
       "    <tr>\n",
       "      <th>1</th>\n",
       "      <td>37</td>\n",
       "      <td>Erkak</td>\n",
       "      <td>BC</td>\n",
       "      <td>NEPHROLOGY</td>\n",
       "      <td>Maintenance Hemodialysis For Crf</td>\n",
       "      <td>Borivanka</td>\n",
       "      <td>06-08-2013 07:26</td>\n",
       "      <td>12500</td>\n",
       "      <td>22-03-2017 20:25</td>\n",
       "      <td>11000</td>\n",
       "      <td>Rims Govt. General Hospital, Srikakulam</td>\n",
       "      <td>G</td>\n",
       "      <td>08-08-2013 00:00</td>\n",
       "      <td>09-09-2013 00:00</td>\n",
       "      <td>NO</td>\n",
       "      <td>NaN</td>\n",
       "      <td>D</td>\n",
       "    </tr>\n",
       "    <tr>\n",
       "      <th>2</th>\n",
       "      <td>50</td>\n",
       "      <td>Erkak</td>\n",
       "      <td>BC</td>\n",
       "      <td>NEPHROLOGY</td>\n",
       "      <td>Maintenance Hemodialysis For Crf</td>\n",
       "      <td>Kapasakuddi</td>\n",
       "      <td>09-08-2013 18:30</td>\n",
       "      <td>12500</td>\n",
       "      <td>22-03-2017 20:25</td>\n",
       "      <td>11500</td>\n",
       "      <td>Rims Govt. General Hospital, Srikakulam</td>\n",
       "      <td>G</td>\n",
       "      <td>15-08-2013 00:00</td>\n",
       "      <td>18-10-2013 00:00</td>\n",
       "      <td>NO</td>\n",
       "      <td>NaN</td>\n",
       "      <td>D</td>\n",
       "    </tr>\n",
       "    <tr>\n",
       "      <th>3</th>\n",
       "      <td>45</td>\n",
       "      <td>Erkak</td>\n",
       "      <td>BC</td>\n",
       "      <td>NEPHROLOGY</td>\n",
       "      <td>Maintenance Hemodialysis For Crf</td>\n",
       "      <td>Telikipenta</td>\n",
       "      <td>24-08-2013 19:37</td>\n",
       "      <td>12500</td>\n",
       "      <td>22-03-2017 20:25</td>\n",
       "      <td>11000</td>\n",
       "      <td>Rims Govt. General Hospital, Srikakulam</td>\n",
       "      <td>G</td>\n",
       "      <td>24-08-2013 00:00</td>\n",
       "      <td>27-09-2013 00:00</td>\n",
       "      <td>NO</td>\n",
       "      <td>NaN</td>\n",
       "      <td>D</td>\n",
       "    </tr>\n",
       "    <tr>\n",
       "      <th>4</th>\n",
       "      <td>54</td>\n",
       "      <td>Erkak</td>\n",
       "      <td>BC</td>\n",
       "      <td>NEPHROLOGY</td>\n",
       "      <td>Maintenance Hemodialysis For Crf</td>\n",
       "      <td>Thandemvalasa</td>\n",
       "      <td>28-08-2013 17:03</td>\n",
       "      <td>12500</td>\n",
       "      <td>22-03-2017 20:25</td>\n",
       "      <td>11000</td>\n",
       "      <td>Rims Govt. General Hospital, Srikakulam</td>\n",
       "      <td>G</td>\n",
       "      <td>31-08-2013 00:00</td>\n",
       "      <td>02-10-2013 00:00</td>\n",
       "      <td>NO</td>\n",
       "      <td>NaN</td>\n",
       "      <td>D</td>\n",
       "    </tr>\n",
       "    <tr>\n",
       "      <th>5</th>\n",
       "      <td>35</td>\n",
       "      <td>Erkak</td>\n",
       "      <td>OC</td>\n",
       "      <td>NEPHROLOGY</td>\n",
       "      <td>Maintenance Hemodialysis For Crf</td>\n",
       "      <td>Phasigangupeta</td>\n",
       "      <td>28-08-2013 17:30</td>\n",
       "      <td>12500</td>\n",
       "      <td>22-03-2017 20:25</td>\n",
       "      <td>11000</td>\n",
       "      <td>Rims Govt. General Hospital, Srikakulam</td>\n",
       "      <td>G</td>\n",
       "      <td>31-08-2013 00:00</td>\n",
       "      <td>02-10-2013 00:00</td>\n",
       "      <td>NO</td>\n",
       "      <td>NaN</td>\n",
       "      <td>P</td>\n",
       "    </tr>\n",
       "    <tr>\n",
       "      <th>6</th>\n",
       "      <td>52</td>\n",
       "      <td>Erkak</td>\n",
       "      <td>OC</td>\n",
       "      <td>NEPHROLOGY</td>\n",
       "      <td>Maintenance Hemodialysis For Crf</td>\n",
       "      <td>Kranti Nagar</td>\n",
       "      <td>30-08-2013 07:53</td>\n",
       "      <td>12500</td>\n",
       "      <td>22-03-2017 20:25</td>\n",
       "      <td>11000</td>\n",
       "      <td>Govt General Hospital Kurnool</td>\n",
       "      <td>G</td>\n",
       "      <td>31-08-2013 00:00</td>\n",
       "      <td>02-10-2013 00:00</td>\n",
       "      <td>NO</td>\n",
       "      <td>NaN</td>\n",
       "      <td>D</td>\n",
       "    </tr>\n",
       "    <tr>\n",
       "      <th>7</th>\n",
       "      <td>73</td>\n",
       "      <td>Erkak</td>\n",
       "      <td>BC</td>\n",
       "      <td>NEPHROLOGY</td>\n",
       "      <td>Maintenance Hemodialysis For Crf</td>\n",
       "      <td>Bhoghapuram</td>\n",
       "      <td>02-05-2014 15:11</td>\n",
       "      <td>12500</td>\n",
       "      <td>11-10-2017 19:34</td>\n",
       "      <td>5000</td>\n",
       "      <td>Queens Nri Hospitals</td>\n",
       "      <td>C</td>\n",
       "      <td>05-05-2014 00:00</td>\n",
       "      <td>NaN</td>\n",
       "      <td>YES</td>\n",
       "      <td>23-05-2014 00:00</td>\n",
       "      <td>D</td>\n",
       "    </tr>\n",
       "  </tbody>\n",
       "</table>\n",
       "</div>"
      ],
      "text/plain": [
       "   AGE    SEX CASTE_NAME CATEGORY_NAME                           SURGERY  \\\n",
       "0   56   Ayol         BC    NEPHROLOGY  Maintenance Hemodialysis For Crf   \n",
       "1   37  Erkak         BC    NEPHROLOGY  Maintenance Hemodialysis For Crf   \n",
       "2   50  Erkak         BC    NEPHROLOGY  Maintenance Hemodialysis For Crf   \n",
       "3   45  Erkak         BC    NEPHROLOGY  Maintenance Hemodialysis For Crf   \n",
       "4   54  Erkak         BC    NEPHROLOGY  Maintenance Hemodialysis For Crf   \n",
       "5   35  Erkak         OC    NEPHROLOGY  Maintenance Hemodialysis For Crf   \n",
       "6   52  Erkak         OC    NEPHROLOGY  Maintenance Hemodialysis For Crf   \n",
       "7   73  Erkak         BC    NEPHROLOGY  Maintenance Hemodialysis For Crf   \n",
       "\n",
       "          VILLAGE      PREAUTH_DATE  PREAUTH_AMT        CLAIM_DATE  \\\n",
       "0          Lolugu  03-08-2013 20:38        12500  22-03-2017 20:25   \n",
       "1       Borivanka  06-08-2013 07:26        12500  22-03-2017 20:25   \n",
       "2     Kapasakuddi  09-08-2013 18:30        12500  22-03-2017 20:25   \n",
       "3     Telikipenta  24-08-2013 19:37        12500  22-03-2017 20:25   \n",
       "4   Thandemvalasa  28-08-2013 17:03        12500  22-03-2017 20:25   \n",
       "5  Phasigangupeta  28-08-2013 17:30        12500  22-03-2017 20:25   \n",
       "6    Kranti Nagar  30-08-2013 07:53        12500  22-03-2017 20:25   \n",
       "7     Bhoghapuram  02-05-2014 15:11        12500  11-10-2017 19:34   \n",
       "\n",
       "   CLAIM_AMOUNT                                HOSP_NAME HOSP_TYPE  \\\n",
       "0         11000  Rims Govt. General Hospital, Srikakulam         G   \n",
       "1         11000  Rims Govt. General Hospital, Srikakulam         G   \n",
       "2         11500  Rims Govt. General Hospital, Srikakulam         G   \n",
       "3         11000  Rims Govt. General Hospital, Srikakulam         G   \n",
       "4         11000  Rims Govt. General Hospital, Srikakulam         G   \n",
       "5         11000  Rims Govt. General Hospital, Srikakulam         G   \n",
       "6         11000            Govt General Hospital Kurnool         G   \n",
       "7          5000                     Queens Nri Hospitals         C   \n",
       "\n",
       "       SURGERY_DATE    DISCHARGE_DATE Mortality Y / N    MORTALITY_DATE  \\\n",
       "0  06-08-2013 00:00  07-09-2013 00:00              NO               NaN   \n",
       "1  08-08-2013 00:00  09-09-2013 00:00              NO               NaN   \n",
       "2  15-08-2013 00:00  18-10-2013 00:00              NO               NaN   \n",
       "3  24-08-2013 00:00  27-09-2013 00:00              NO               NaN   \n",
       "4  31-08-2013 00:00  02-10-2013 00:00              NO               NaN   \n",
       "5  31-08-2013 00:00  02-10-2013 00:00              NO               NaN   \n",
       "6  31-08-2013 00:00  02-10-2013 00:00              NO               NaN   \n",
       "7  05-05-2014 00:00               NaN             YES  23-05-2014 00:00   \n",
       "\n",
       "  SRC_REGISTRATION  \n",
       "0                D  \n",
       "1                D  \n",
       "2                D  \n",
       "3                D  \n",
       "4                D  \n",
       "5                P  \n",
       "6                D  \n",
       "7                D  "
      ]
     },
     "execution_count": 70,
     "metadata": {},
     "output_type": "execute_result"
    }
   ],
   "source": [
    "# Javobni shuyerga yozing\n",
    "dict = {'Male':'Erkak', 'Male(child)':'Erkak', 'Female':'Ayol','Female(child)':'Ayol','MALE':'Erkak','FEMALE':'Ayol'}\n",
    "df['SEX'] = df.SEX.map(dict)\n",
    "df.head(8)"
   ]
  },
  {
   "cell_type": "code",
   "execution_count": null,
   "metadata": {
    "cellView": "form",
    "id": "ZM7XuQc31_Z1"
   },
   "outputs": [],
   "source": [
    "#@title **To'g'ri javob**\n",
    "dict = {\"Male\":\"Erkak\",\"Male(child)\":\"Erkak\", \"Female\":\"Ayol\",\"Female(child)\":\"Ayol\",\"MALE\":\"Erkak\",\"FEMALE\":\"Ayol\"}\n",
    "df[\"SEX\"] = df[\"SEX\"].map(dict)"
   ]
  },
  {
   "cell_type": "markdown",
   "metadata": {
    "id": "t_KWHWqj3D38"
   },
   "source": [
    "#### **5-mashq**. Endi xuddi shu SEX columndagi ma'lumotlarni raqamlarga o'zgartiring: Erkaklarni 1 raqamiga, Ayollarni 0 raqamiga o'zgartiring.\n",
    "*   Erkak -> 1\n",
    "*   Ayol -> 0"
   ]
  },
  {
   "cell_type": "code",
   "execution_count": 71,
   "metadata": {
    "id": "CU3ygcnh3LAd"
   },
   "outputs": [
    {
     "data": {
      "text/html": [
       "<div>\n",
       "<style scoped>\n",
       "    .dataframe tbody tr th:only-of-type {\n",
       "        vertical-align: middle;\n",
       "    }\n",
       "\n",
       "    .dataframe tbody tr th {\n",
       "        vertical-align: top;\n",
       "    }\n",
       "\n",
       "    .dataframe thead th {\n",
       "        text-align: right;\n",
       "    }\n",
       "</style>\n",
       "<table border=\"1\" class=\"dataframe\">\n",
       "  <thead>\n",
       "    <tr style=\"text-align: right;\">\n",
       "      <th></th>\n",
       "      <th>AGE</th>\n",
       "      <th>SEX</th>\n",
       "      <th>CASTE_NAME</th>\n",
       "      <th>CATEGORY_NAME</th>\n",
       "      <th>SURGERY</th>\n",
       "      <th>VILLAGE</th>\n",
       "      <th>PREAUTH_DATE</th>\n",
       "      <th>PREAUTH_AMT</th>\n",
       "      <th>CLAIM_DATE</th>\n",
       "      <th>CLAIM_AMOUNT</th>\n",
       "      <th>HOSP_NAME</th>\n",
       "      <th>HOSP_TYPE</th>\n",
       "      <th>SURGERY_DATE</th>\n",
       "      <th>DISCHARGE_DATE</th>\n",
       "      <th>Mortality Y / N</th>\n",
       "      <th>MORTALITY_DATE</th>\n",
       "      <th>SRC_REGISTRATION</th>\n",
       "    </tr>\n",
       "  </thead>\n",
       "  <tbody>\n",
       "    <tr>\n",
       "      <th>0</th>\n",
       "      <td>56</td>\n",
       "      <td>0.0</td>\n",
       "      <td>BC</td>\n",
       "      <td>NEPHROLOGY</td>\n",
       "      <td>Maintenance Hemodialysis For Crf</td>\n",
       "      <td>Lolugu</td>\n",
       "      <td>03-08-2013 20:38</td>\n",
       "      <td>12500</td>\n",
       "      <td>22-03-2017 20:25</td>\n",
       "      <td>11000</td>\n",
       "      <td>Rims Govt. General Hospital, Srikakulam</td>\n",
       "      <td>G</td>\n",
       "      <td>06-08-2013 00:00</td>\n",
       "      <td>07-09-2013 00:00</td>\n",
       "      <td>NO</td>\n",
       "      <td>NaN</td>\n",
       "      <td>D</td>\n",
       "    </tr>\n",
       "    <tr>\n",
       "      <th>1</th>\n",
       "      <td>37</td>\n",
       "      <td>1.0</td>\n",
       "      <td>BC</td>\n",
       "      <td>NEPHROLOGY</td>\n",
       "      <td>Maintenance Hemodialysis For Crf</td>\n",
       "      <td>Borivanka</td>\n",
       "      <td>06-08-2013 07:26</td>\n",
       "      <td>12500</td>\n",
       "      <td>22-03-2017 20:25</td>\n",
       "      <td>11000</td>\n",
       "      <td>Rims Govt. General Hospital, Srikakulam</td>\n",
       "      <td>G</td>\n",
       "      <td>08-08-2013 00:00</td>\n",
       "      <td>09-09-2013 00:00</td>\n",
       "      <td>NO</td>\n",
       "      <td>NaN</td>\n",
       "      <td>D</td>\n",
       "    </tr>\n",
       "    <tr>\n",
       "      <th>2</th>\n",
       "      <td>50</td>\n",
       "      <td>1.0</td>\n",
       "      <td>BC</td>\n",
       "      <td>NEPHROLOGY</td>\n",
       "      <td>Maintenance Hemodialysis For Crf</td>\n",
       "      <td>Kapasakuddi</td>\n",
       "      <td>09-08-2013 18:30</td>\n",
       "      <td>12500</td>\n",
       "      <td>22-03-2017 20:25</td>\n",
       "      <td>11500</td>\n",
       "      <td>Rims Govt. General Hospital, Srikakulam</td>\n",
       "      <td>G</td>\n",
       "      <td>15-08-2013 00:00</td>\n",
       "      <td>18-10-2013 00:00</td>\n",
       "      <td>NO</td>\n",
       "      <td>NaN</td>\n",
       "      <td>D</td>\n",
       "    </tr>\n",
       "    <tr>\n",
       "      <th>3</th>\n",
       "      <td>45</td>\n",
       "      <td>1.0</td>\n",
       "      <td>BC</td>\n",
       "      <td>NEPHROLOGY</td>\n",
       "      <td>Maintenance Hemodialysis For Crf</td>\n",
       "      <td>Telikipenta</td>\n",
       "      <td>24-08-2013 19:37</td>\n",
       "      <td>12500</td>\n",
       "      <td>22-03-2017 20:25</td>\n",
       "      <td>11000</td>\n",
       "      <td>Rims Govt. General Hospital, Srikakulam</td>\n",
       "      <td>G</td>\n",
       "      <td>24-08-2013 00:00</td>\n",
       "      <td>27-09-2013 00:00</td>\n",
       "      <td>NO</td>\n",
       "      <td>NaN</td>\n",
       "      <td>D</td>\n",
       "    </tr>\n",
       "    <tr>\n",
       "      <th>4</th>\n",
       "      <td>54</td>\n",
       "      <td>1.0</td>\n",
       "      <td>BC</td>\n",
       "      <td>NEPHROLOGY</td>\n",
       "      <td>Maintenance Hemodialysis For Crf</td>\n",
       "      <td>Thandemvalasa</td>\n",
       "      <td>28-08-2013 17:03</td>\n",
       "      <td>12500</td>\n",
       "      <td>22-03-2017 20:25</td>\n",
       "      <td>11000</td>\n",
       "      <td>Rims Govt. General Hospital, Srikakulam</td>\n",
       "      <td>G</td>\n",
       "      <td>31-08-2013 00:00</td>\n",
       "      <td>02-10-2013 00:00</td>\n",
       "      <td>NO</td>\n",
       "      <td>NaN</td>\n",
       "      <td>D</td>\n",
       "    </tr>\n",
       "  </tbody>\n",
       "</table>\n",
       "</div>"
      ],
      "text/plain": [
       "   AGE  SEX CASTE_NAME CATEGORY_NAME                           SURGERY  \\\n",
       "0   56  0.0         BC    NEPHROLOGY  Maintenance Hemodialysis For Crf   \n",
       "1   37  1.0         BC    NEPHROLOGY  Maintenance Hemodialysis For Crf   \n",
       "2   50  1.0         BC    NEPHROLOGY  Maintenance Hemodialysis For Crf   \n",
       "3   45  1.0         BC    NEPHROLOGY  Maintenance Hemodialysis For Crf   \n",
       "4   54  1.0         BC    NEPHROLOGY  Maintenance Hemodialysis For Crf   \n",
       "\n",
       "         VILLAGE      PREAUTH_DATE  PREAUTH_AMT        CLAIM_DATE  \\\n",
       "0         Lolugu  03-08-2013 20:38        12500  22-03-2017 20:25   \n",
       "1      Borivanka  06-08-2013 07:26        12500  22-03-2017 20:25   \n",
       "2    Kapasakuddi  09-08-2013 18:30        12500  22-03-2017 20:25   \n",
       "3    Telikipenta  24-08-2013 19:37        12500  22-03-2017 20:25   \n",
       "4  Thandemvalasa  28-08-2013 17:03        12500  22-03-2017 20:25   \n",
       "\n",
       "   CLAIM_AMOUNT                                HOSP_NAME HOSP_TYPE  \\\n",
       "0         11000  Rims Govt. General Hospital, Srikakulam         G   \n",
       "1         11000  Rims Govt. General Hospital, Srikakulam         G   \n",
       "2         11500  Rims Govt. General Hospital, Srikakulam         G   \n",
       "3         11000  Rims Govt. General Hospital, Srikakulam         G   \n",
       "4         11000  Rims Govt. General Hospital, Srikakulam         G   \n",
       "\n",
       "       SURGERY_DATE    DISCHARGE_DATE Mortality Y / N MORTALITY_DATE  \\\n",
       "0  06-08-2013 00:00  07-09-2013 00:00              NO            NaN   \n",
       "1  08-08-2013 00:00  09-09-2013 00:00              NO            NaN   \n",
       "2  15-08-2013 00:00  18-10-2013 00:00              NO            NaN   \n",
       "3  24-08-2013 00:00  27-09-2013 00:00              NO            NaN   \n",
       "4  31-08-2013 00:00  02-10-2013 00:00              NO            NaN   \n",
       "\n",
       "  SRC_REGISTRATION  \n",
       "0                D  \n",
       "1                D  \n",
       "2                D  \n",
       "3                D  \n",
       "4                D  "
      ]
     },
     "execution_count": 71,
     "metadata": {},
     "output_type": "execute_result"
    }
   ],
   "source": [
    "# Javobni shuyerga yozing\n",
    "dictToNumber = {'Erkak':1, 'Ayol':0}\n",
    "df[\"SEX\"] = df[\"SEX\"].map(dictToNumber)\n",
    "df.head(5)"
   ]
  },
  {
   "cell_type": "code",
   "execution_count": null,
   "metadata": {
    "cellView": "form",
    "id": "Ou0DKvEm3ZxW"
   },
   "outputs": [],
   "source": [
    "#@title **To'g'ri javob**\n",
    "dict2 = {'Erkak':1, 'Ayol':0}\n",
    "df[\"SEX\"] = df[\"SEX\"].map(dict2)\n",
    "df.head(5)"
   ]
  },
  {
   "cell_type": "markdown",
   "metadata": {
    "id": "i4n7ulS75WA4"
   },
   "source": [
    "#### **6-mashq**. Shu jarayonni HOSP_TYPE ustuni uchun ham amalga oshiring.\n",
    "*   G - General hospital (umumiy kasalxona) degani\n",
    "*   C - Special hospital (maxsus kasalxona) degani\n",
    "<br><b>O'zgarish quyidagicha bo'lsin:</b>\n",
    "*   G -> Umumiy\n",
    "*   C -> Maxsus\n"
   ]
  },
  {
   "cell_type": "code",
   "execution_count": 72,
   "metadata": {
    "id": "BEokSEre43GK"
   },
   "outputs": [
    {
     "data": {
      "text/html": [
       "<div>\n",
       "<style scoped>\n",
       "    .dataframe tbody tr th:only-of-type {\n",
       "        vertical-align: middle;\n",
       "    }\n",
       "\n",
       "    .dataframe tbody tr th {\n",
       "        vertical-align: top;\n",
       "    }\n",
       "\n",
       "    .dataframe thead th {\n",
       "        text-align: right;\n",
       "    }\n",
       "</style>\n",
       "<table border=\"1\" class=\"dataframe\">\n",
       "  <thead>\n",
       "    <tr style=\"text-align: right;\">\n",
       "      <th></th>\n",
       "      <th>AGE</th>\n",
       "      <th>SEX</th>\n",
       "      <th>CASTE_NAME</th>\n",
       "      <th>CATEGORY_NAME</th>\n",
       "      <th>SURGERY</th>\n",
       "      <th>VILLAGE</th>\n",
       "      <th>PREAUTH_DATE</th>\n",
       "      <th>PREAUTH_AMT</th>\n",
       "      <th>CLAIM_DATE</th>\n",
       "      <th>CLAIM_AMOUNT</th>\n",
       "      <th>HOSP_NAME</th>\n",
       "      <th>HOSP_TYPE</th>\n",
       "      <th>SURGERY_DATE</th>\n",
       "      <th>DISCHARGE_DATE</th>\n",
       "      <th>Mortality Y / N</th>\n",
       "      <th>MORTALITY_DATE</th>\n",
       "      <th>SRC_REGISTRATION</th>\n",
       "    </tr>\n",
       "  </thead>\n",
       "  <tbody>\n",
       "    <tr>\n",
       "      <th>0</th>\n",
       "      <td>56</td>\n",
       "      <td>0.0</td>\n",
       "      <td>BC</td>\n",
       "      <td>NEPHROLOGY</td>\n",
       "      <td>Maintenance Hemodialysis For Crf</td>\n",
       "      <td>Lolugu</td>\n",
       "      <td>03-08-2013 20:38</td>\n",
       "      <td>12500</td>\n",
       "      <td>22-03-2017 20:25</td>\n",
       "      <td>11000</td>\n",
       "      <td>Rims Govt. General Hospital, Srikakulam</td>\n",
       "      <td>Umumiy</td>\n",
       "      <td>06-08-2013 00:00</td>\n",
       "      <td>07-09-2013 00:00</td>\n",
       "      <td>NO</td>\n",
       "      <td>NaN</td>\n",
       "      <td>D</td>\n",
       "    </tr>\n",
       "    <tr>\n",
       "      <th>1</th>\n",
       "      <td>37</td>\n",
       "      <td>1.0</td>\n",
       "      <td>BC</td>\n",
       "      <td>NEPHROLOGY</td>\n",
       "      <td>Maintenance Hemodialysis For Crf</td>\n",
       "      <td>Borivanka</td>\n",
       "      <td>06-08-2013 07:26</td>\n",
       "      <td>12500</td>\n",
       "      <td>22-03-2017 20:25</td>\n",
       "      <td>11000</td>\n",
       "      <td>Rims Govt. General Hospital, Srikakulam</td>\n",
       "      <td>Umumiy</td>\n",
       "      <td>08-08-2013 00:00</td>\n",
       "      <td>09-09-2013 00:00</td>\n",
       "      <td>NO</td>\n",
       "      <td>NaN</td>\n",
       "      <td>D</td>\n",
       "    </tr>\n",
       "    <tr>\n",
       "      <th>2</th>\n",
       "      <td>50</td>\n",
       "      <td>1.0</td>\n",
       "      <td>BC</td>\n",
       "      <td>NEPHROLOGY</td>\n",
       "      <td>Maintenance Hemodialysis For Crf</td>\n",
       "      <td>Kapasakuddi</td>\n",
       "      <td>09-08-2013 18:30</td>\n",
       "      <td>12500</td>\n",
       "      <td>22-03-2017 20:25</td>\n",
       "      <td>11500</td>\n",
       "      <td>Rims Govt. General Hospital, Srikakulam</td>\n",
       "      <td>Umumiy</td>\n",
       "      <td>15-08-2013 00:00</td>\n",
       "      <td>18-10-2013 00:00</td>\n",
       "      <td>NO</td>\n",
       "      <td>NaN</td>\n",
       "      <td>D</td>\n",
       "    </tr>\n",
       "    <tr>\n",
       "      <th>3</th>\n",
       "      <td>45</td>\n",
       "      <td>1.0</td>\n",
       "      <td>BC</td>\n",
       "      <td>NEPHROLOGY</td>\n",
       "      <td>Maintenance Hemodialysis For Crf</td>\n",
       "      <td>Telikipenta</td>\n",
       "      <td>24-08-2013 19:37</td>\n",
       "      <td>12500</td>\n",
       "      <td>22-03-2017 20:25</td>\n",
       "      <td>11000</td>\n",
       "      <td>Rims Govt. General Hospital, Srikakulam</td>\n",
       "      <td>Umumiy</td>\n",
       "      <td>24-08-2013 00:00</td>\n",
       "      <td>27-09-2013 00:00</td>\n",
       "      <td>NO</td>\n",
       "      <td>NaN</td>\n",
       "      <td>D</td>\n",
       "    </tr>\n",
       "    <tr>\n",
       "      <th>4</th>\n",
       "      <td>54</td>\n",
       "      <td>1.0</td>\n",
       "      <td>BC</td>\n",
       "      <td>NEPHROLOGY</td>\n",
       "      <td>Maintenance Hemodialysis For Crf</td>\n",
       "      <td>Thandemvalasa</td>\n",
       "      <td>28-08-2013 17:03</td>\n",
       "      <td>12500</td>\n",
       "      <td>22-03-2017 20:25</td>\n",
       "      <td>11000</td>\n",
       "      <td>Rims Govt. General Hospital, Srikakulam</td>\n",
       "      <td>Umumiy</td>\n",
       "      <td>31-08-2013 00:00</td>\n",
       "      <td>02-10-2013 00:00</td>\n",
       "      <td>NO</td>\n",
       "      <td>NaN</td>\n",
       "      <td>D</td>\n",
       "    </tr>\n",
       "  </tbody>\n",
       "</table>\n",
       "</div>"
      ],
      "text/plain": [
       "   AGE  SEX CASTE_NAME CATEGORY_NAME                           SURGERY  \\\n",
       "0   56  0.0         BC    NEPHROLOGY  Maintenance Hemodialysis For Crf   \n",
       "1   37  1.0         BC    NEPHROLOGY  Maintenance Hemodialysis For Crf   \n",
       "2   50  1.0         BC    NEPHROLOGY  Maintenance Hemodialysis For Crf   \n",
       "3   45  1.0         BC    NEPHROLOGY  Maintenance Hemodialysis For Crf   \n",
       "4   54  1.0         BC    NEPHROLOGY  Maintenance Hemodialysis For Crf   \n",
       "\n",
       "         VILLAGE      PREAUTH_DATE  PREAUTH_AMT        CLAIM_DATE  \\\n",
       "0         Lolugu  03-08-2013 20:38        12500  22-03-2017 20:25   \n",
       "1      Borivanka  06-08-2013 07:26        12500  22-03-2017 20:25   \n",
       "2    Kapasakuddi  09-08-2013 18:30        12500  22-03-2017 20:25   \n",
       "3    Telikipenta  24-08-2013 19:37        12500  22-03-2017 20:25   \n",
       "4  Thandemvalasa  28-08-2013 17:03        12500  22-03-2017 20:25   \n",
       "\n",
       "   CLAIM_AMOUNT                                HOSP_NAME HOSP_TYPE  \\\n",
       "0         11000  Rims Govt. General Hospital, Srikakulam    Umumiy   \n",
       "1         11000  Rims Govt. General Hospital, Srikakulam    Umumiy   \n",
       "2         11500  Rims Govt. General Hospital, Srikakulam    Umumiy   \n",
       "3         11000  Rims Govt. General Hospital, Srikakulam    Umumiy   \n",
       "4         11000  Rims Govt. General Hospital, Srikakulam    Umumiy   \n",
       "\n",
       "       SURGERY_DATE    DISCHARGE_DATE Mortality Y / N MORTALITY_DATE  \\\n",
       "0  06-08-2013 00:00  07-09-2013 00:00              NO            NaN   \n",
       "1  08-08-2013 00:00  09-09-2013 00:00              NO            NaN   \n",
       "2  15-08-2013 00:00  18-10-2013 00:00              NO            NaN   \n",
       "3  24-08-2013 00:00  27-09-2013 00:00              NO            NaN   \n",
       "4  31-08-2013 00:00  02-10-2013 00:00              NO            NaN   \n",
       "\n",
       "  SRC_REGISTRATION  \n",
       "0                D  \n",
       "1                D  \n",
       "2                D  \n",
       "3                D  \n",
       "4                D  "
      ]
     },
     "execution_count": 72,
     "metadata": {},
     "output_type": "execute_result"
    }
   ],
   "source": [
    "# Javobni shuyerga yozing\n",
    "g_c = {'G':\"Umumiy\", 'C':\"Maxsus\"}\n",
    "df[\"HOSP_TYPE\"] = df[\"HOSP_TYPE\"].map(g_c)\n",
    "df.head(5)"
   ]
  },
  {
   "cell_type": "code",
   "execution_count": null,
   "metadata": {
    "cellView": "form",
    "id": "ALhBzKu35lBb"
   },
   "outputs": [],
   "source": [
    "#@title **To'g'ri javob**\n",
    "df[\"HOSP_TYPE\"] = df[\"HOSP_TYPE\"].map({'G':\"Umumiy\", 'C':\"Maxsus\"})"
   ]
  },
  {
   "cell_type": "markdown",
   "metadata": {
    "id": "4YozaezB4qqa"
   },
   "source": [
    "#### **7-mashq**. O'zgartirish amalga oshirilgach, HOSP_TYPE ustunida qancha Umumiy va qancha Maxsus kasalxonalar borligini ham aniqlang\n"
   ]
  },
  {
   "cell_type": "code",
   "execution_count": 73,
   "metadata": {
    "id": "XNa8b4s25IUN"
   },
   "outputs": [
    {
     "data": {
      "text/plain": [
       "Maxsus    241139\n",
       "Umumiy     94255\n",
       "Name: HOSP_TYPE, dtype: int64"
      ]
     },
     "execution_count": 73,
     "metadata": {},
     "output_type": "execute_result"
    }
   ],
   "source": [
    "# Javobni shuyerga yozing\n",
    "df[\"HOSP_TYPE\"].value_counts()"
   ]
  },
  {
   "cell_type": "code",
   "execution_count": null,
   "metadata": {
    "cellView": "form",
    "id": "j472LUxgU0P-"
   },
   "outputs": [],
   "source": [
    "#@title **To'g'ri javob**\n",
    "df[\"HOSP_TYPE\"].value_counts()"
   ]
  },
  {
   "cell_type": "markdown",
   "metadata": {
    "id": "kEr2LYiJ_I-k"
   },
   "source": [
    "#### **8-mashq**. Datasetda qancha takrorlangan qatorlar borligini aniqlang  \n"
   ]
  },
  {
   "cell_type": "code",
   "execution_count": 74,
   "metadata": {
    "id": "7EzWPhDZ_i5o"
   },
   "outputs": [
    {
     "data": {
      "text/plain": [
       "32"
      ]
     },
     "execution_count": 74,
     "metadata": {},
     "output_type": "execute_result"
    }
   ],
   "source": [
    "# Javobni shuyerga yozing\n",
    "sum(df.duplicated())"
   ]
  },
  {
   "cell_type": "code",
   "execution_count": 75,
   "metadata": {
    "cellView": "form",
    "id": "J3yF9CKM5eTs"
   },
   "outputs": [
    {
     "data": {
      "text/plain": [
       "32"
      ]
     },
     "execution_count": 75,
     "metadata": {},
     "output_type": "execute_result"
    }
   ],
   "source": [
    "#@title **To'g'ri javob**\n",
    "sum(df.duplicated())"
   ]
  },
  {
   "cell_type": "markdown",
   "metadata": {
    "id": "6gphfgtd_nJK"
   },
   "source": [
    "#### **9-mashq**. Datasetda barcha takrorlangan qatorlarni o'chirib yuboring  \n"
   ]
  },
  {
   "cell_type": "code",
   "execution_count": 76,
   "metadata": {
    "id": "DdsEuZXg_tEd"
   },
   "outputs": [],
   "source": [
    "# Javobni shuyerga yozing\n",
    "df.drop_duplicates(inplace=True)"
   ]
  },
  {
   "cell_type": "code",
   "execution_count": null,
   "metadata": {
    "cellView": "form",
    "id": "sy_c4uyI_t6f"
   },
   "outputs": [],
   "source": [
    "#@title **To'g'ri javob**\n",
    "df.drop_duplicates(inplace=True)"
   ]
  },
  {
   "cell_type": "markdown",
   "metadata": {
    "id": "bN26F9LP_2RE"
   },
   "source": [
    "#### **10-mashq**. Datasetdan shifoxona turiga ko'ra (umumiy va maxsus), ClAIM_AMOUNTning o'rtacha qiymatlarini toping.\n"
   ]
  },
  {
   "cell_type": "code",
   "execution_count": 77,
   "metadata": {
    "id": "t2NcocXLFI78"
   },
   "outputs": [
    {
     "data": {
      "text/plain": [
       "HOSP_TYPE\n",
       "Maxsus    30275.151848\n",
       "Umumiy    22683.614852\n",
       "Name: CLAIM_AMOUNT, dtype: float64"
      ]
     },
     "execution_count": 77,
     "metadata": {},
     "output_type": "execute_result"
    }
   ],
   "source": [
    "# Javobni shuyerga yozing\n",
    "df.groupby('HOSP_TYPE').CLAIM_AMOUNT.mean()"
   ]
  },
  {
   "cell_type": "code",
   "execution_count": null,
   "metadata": {
    "cellView": "form",
    "id": "vpa7vDJWAc6u"
   },
   "outputs": [],
   "source": [
    "#@title **To'g'ri javob**\n",
    "df.groupby('HOSP_TYPE').CLAIM_AMOUNT.mean()"
   ]
  },
  {
   "cell_type": "markdown",
   "metadata": {
    "id": "7QnvZvW6F3Su"
   },
   "source": [
    "#### **11-mashq**. Datasetdan shifoxona turiga ko'ra (umumiy va maxsus), ClAIM_AMOUNTning minimum qiymatlarini toping.\n"
   ]
  },
  {
   "cell_type": "code",
   "execution_count": 79,
   "metadata": {
    "id": "5K42PI7tF0On"
   },
   "outputs": [
    {
     "data": {
      "text/plain": [
       "HOSP_TYPE\n",
       "Maxsus    2\n",
       "Umumiy    2\n",
       "Name: CLAIM_AMOUNT, dtype: int64"
      ]
     },
     "execution_count": 79,
     "metadata": {},
     "output_type": "execute_result"
    }
   ],
   "source": [
    "# Javobni shuyerga yozing\n",
    "df.groupby('HOSP_TYPE').CLAIM_AMOUNT.min()"
   ]
  },
  {
   "cell_type": "code",
   "execution_count": null,
   "metadata": {
    "cellView": "form",
    "id": "znwYPfq5F0Sy"
   },
   "outputs": [],
   "source": [
    "#@title **To'g'ri javob**\n",
    "df.groupby('HOSP_TYPE').CLAIM_AMOUNT.min()"
   ]
  },
  {
   "cell_type": "markdown",
   "metadata": {
    "id": "KQKllXlaF5D7"
   },
   "source": [
    "#### **12-mashq**. Datasetdan shifoxona turiga ko'ra (umumiy va maxsus), CLAIM_AMOUNTning maksimum qiymatlarini toping.\n"
   ]
  },
  {
   "cell_type": "code",
   "execution_count": 80,
   "metadata": {
    "id": "7RNQVzsCF8-m"
   },
   "outputs": [
    {
     "data": {
      "text/plain": [
       "HOSP_TYPE\n",
       "Maxsus    520000\n",
       "Umumiy    520000\n",
       "Name: CLAIM_AMOUNT, dtype: int64"
      ]
     },
     "execution_count": 80,
     "metadata": {},
     "output_type": "execute_result"
    }
   ],
   "source": [
    "# Javobni shuyerga yozing\n",
    "df.groupby('HOSP_TYPE').CLAIM_AMOUNT.max()"
   ]
  },
  {
   "cell_type": "code",
   "execution_count": null,
   "metadata": {
    "cellView": "form",
    "id": "PM-8O6dZF-c_"
   },
   "outputs": [],
   "source": [
    "#@title **To'g'ri javob**\n",
    "df.groupby('HOSP_TYPE').CLAIM_AMOUNT.max()"
   ]
  },
  {
   "cell_type": "markdown",
   "metadata": {
    "id": "JhL3fPU4HJkK"
   },
   "source": [
    ".agg() yordamida istalgan funksiyalarni chaqirishimiz mumkin, misol uchun numpy dagi mean (o'rta qiymat) funiksiyasini ham qo'shamiz. Natijalarni faqat price ustuni uchun chiqaramiz:"
   ]
  },
  {
   "cell_type": "markdown",
   "metadata": {
    "id": "ZaAwTY8RHLBB"
   },
   "source": [
    "#### **13-mashq**. Datasetdan jinsiga ko'ra CLAIM_AMOUNTning min, max va o'rta qiymatlarni agg() usuli yordamida toping.\n",
    "\n"
   ]
  },
  {
   "cell_type": "code",
   "execution_count": 81,
   "metadata": {
    "id": "-X_HduSGH00I"
   },
   "outputs": [
    {
     "data": {
      "text/html": [
       "<div>\n",
       "<style scoped>\n",
       "    .dataframe tbody tr th:only-of-type {\n",
       "        vertical-align: middle;\n",
       "    }\n",
       "\n",
       "    .dataframe tbody tr th {\n",
       "        vertical-align: top;\n",
       "    }\n",
       "\n",
       "    .dataframe thead th {\n",
       "        text-align: right;\n",
       "    }\n",
       "</style>\n",
       "<table border=\"1\" class=\"dataframe\">\n",
       "  <thead>\n",
       "    <tr style=\"text-align: right;\">\n",
       "      <th></th>\n",
       "      <th>min</th>\n",
       "      <th>max</th>\n",
       "      <th>mean</th>\n",
       "    </tr>\n",
       "    <tr>\n",
       "      <th>SEX</th>\n",
       "      <th></th>\n",
       "      <th></th>\n",
       "      <th></th>\n",
       "    </tr>\n",
       "  </thead>\n",
       "  <tbody>\n",
       "    <tr>\n",
       "      <th>0.0</th>\n",
       "      <td>2</td>\n",
       "      <td>210000</td>\n",
       "      <td>25554.716182</td>\n",
       "    </tr>\n",
       "    <tr>\n",
       "      <th>1.0</th>\n",
       "      <td>2</td>\n",
       "      <td>205000</td>\n",
       "      <td>29636.456810</td>\n",
       "    </tr>\n",
       "  </tbody>\n",
       "</table>\n",
       "</div>"
      ],
      "text/plain": [
       "     min     max          mean\n",
       "SEX                           \n",
       "0.0    2  210000  25554.716182\n",
       "1.0    2  205000  29636.456810"
      ]
     },
     "execution_count": 81,
     "metadata": {},
     "output_type": "execute_result"
    }
   ],
   "source": [
    "# Javobni shuyerga yozing\n",
    "df.groupby('SEX').CLAIM_AMOUNT.agg([min, max, np.mean])\n"
   ]
  },
  {
   "cell_type": "code",
   "execution_count": null,
   "metadata": {
    "cellView": "form",
    "id": "3372GXlAHsvB"
   },
   "outputs": [],
   "source": [
    "#@title **To'g'ri javob**\n",
    "df.groupby('SEX').CLAIM_AMOUNT.agg([min, max, np.mean])"
   ]
  }
 ],
 "metadata": {
  "colab": {
   "include_colab_link": true,
   "provenance": []
  },
  "kernelspec": {
   "display_name": "Python 3 (ipykernel)",
   "language": "python",
   "name": "python3"
  },
  "language_info": {
   "codemirror_mode": {
    "name": "ipython",
    "version": 3
   },
   "file_extension": ".py",
   "mimetype": "text/x-python",
   "name": "python",
   "nbconvert_exporter": "python",
   "pygments_lexer": "ipython3",
   "version": "3.11.4"
  }
 },
 "nbformat": 4,
 "nbformat_minor": 1
}
